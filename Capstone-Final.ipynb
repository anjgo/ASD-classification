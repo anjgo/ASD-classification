{
 "cells": [
  {
   "cell_type": "markdown",
   "metadata": {},
   "source": [
    "## Machine Learning Nanodegee - Capstone Project"
   ]
  },
  {
   "cell_type": "markdown",
   "metadata": {},
   "source": [
    "### Exploratory Data Analysis\n",
    "\n",
    "The dataset was first loaded and the distributions of each feature was visualized."
   ]
  },
  {
   "cell_type": "code",
   "execution_count": 1,
   "metadata": {},
   "outputs": [
    {
     "data": {
      "text/html": [
       "<div>\n",
       "<style scoped>\n",
       "    .dataframe tbody tr th:only-of-type {\n",
       "        vertical-align: middle;\n",
       "    }\n",
       "\n",
       "    .dataframe tbody tr th {\n",
       "        vertical-align: top;\n",
       "    }\n",
       "\n",
       "    .dataframe thead th {\n",
       "        text-align: right;\n",
       "    }\n",
       "</style>\n",
       "<table border=\"1\" class=\"dataframe\">\n",
       "  <thead>\n",
       "    <tr style=\"text-align: right;\">\n",
       "      <th></th>\n",
       "      <th>A1_Score</th>\n",
       "      <th>A2_Score</th>\n",
       "      <th>A3_Score</th>\n",
       "      <th>A4_Score</th>\n",
       "      <th>A5_Score</th>\n",
       "      <th>A6_Score</th>\n",
       "      <th>A7_Score</th>\n",
       "      <th>A8_Score</th>\n",
       "      <th>A9_Score</th>\n",
       "      <th>A10_Score</th>\n",
       "      <th>...</th>\n",
       "      <th>gender</th>\n",
       "      <th>ethnicity</th>\n",
       "      <th>jundice</th>\n",
       "      <th>austim</th>\n",
       "      <th>contry_of_res</th>\n",
       "      <th>used_app_before</th>\n",
       "      <th>result</th>\n",
       "      <th>age_desc</th>\n",
       "      <th>relation</th>\n",
       "      <th>Class/ASD</th>\n",
       "    </tr>\n",
       "  </thead>\n",
       "  <tbody>\n",
       "    <tr>\n",
       "      <th>0</th>\n",
       "      <td>1</td>\n",
       "      <td>1</td>\n",
       "      <td>1</td>\n",
       "      <td>1</td>\n",
       "      <td>0</td>\n",
       "      <td>0</td>\n",
       "      <td>1</td>\n",
       "      <td>1</td>\n",
       "      <td>0</td>\n",
       "      <td>0</td>\n",
       "      <td>...</td>\n",
       "      <td>f</td>\n",
       "      <td>White-European</td>\n",
       "      <td>no</td>\n",
       "      <td>no</td>\n",
       "      <td>'United States'</td>\n",
       "      <td>no</td>\n",
       "      <td>6</td>\n",
       "      <td>'18 and more'</td>\n",
       "      <td>Self</td>\n",
       "      <td>NO</td>\n",
       "    </tr>\n",
       "    <tr>\n",
       "      <th>1</th>\n",
       "      <td>1</td>\n",
       "      <td>1</td>\n",
       "      <td>0</td>\n",
       "      <td>1</td>\n",
       "      <td>0</td>\n",
       "      <td>0</td>\n",
       "      <td>0</td>\n",
       "      <td>1</td>\n",
       "      <td>0</td>\n",
       "      <td>1</td>\n",
       "      <td>...</td>\n",
       "      <td>m</td>\n",
       "      <td>Latino</td>\n",
       "      <td>no</td>\n",
       "      <td>yes</td>\n",
       "      <td>Brazil</td>\n",
       "      <td>no</td>\n",
       "      <td>5</td>\n",
       "      <td>'18 and more'</td>\n",
       "      <td>Self</td>\n",
       "      <td>NO</td>\n",
       "    </tr>\n",
       "    <tr>\n",
       "      <th>2</th>\n",
       "      <td>1</td>\n",
       "      <td>1</td>\n",
       "      <td>0</td>\n",
       "      <td>1</td>\n",
       "      <td>1</td>\n",
       "      <td>0</td>\n",
       "      <td>1</td>\n",
       "      <td>1</td>\n",
       "      <td>1</td>\n",
       "      <td>1</td>\n",
       "      <td>...</td>\n",
       "      <td>m</td>\n",
       "      <td>Latino</td>\n",
       "      <td>yes</td>\n",
       "      <td>yes</td>\n",
       "      <td>Spain</td>\n",
       "      <td>no</td>\n",
       "      <td>8</td>\n",
       "      <td>'18 and more'</td>\n",
       "      <td>Parent</td>\n",
       "      <td>YES</td>\n",
       "    </tr>\n",
       "    <tr>\n",
       "      <th>3</th>\n",
       "      <td>1</td>\n",
       "      <td>1</td>\n",
       "      <td>0</td>\n",
       "      <td>1</td>\n",
       "      <td>0</td>\n",
       "      <td>0</td>\n",
       "      <td>1</td>\n",
       "      <td>1</td>\n",
       "      <td>0</td>\n",
       "      <td>1</td>\n",
       "      <td>...</td>\n",
       "      <td>f</td>\n",
       "      <td>White-European</td>\n",
       "      <td>no</td>\n",
       "      <td>yes</td>\n",
       "      <td>'United States'</td>\n",
       "      <td>no</td>\n",
       "      <td>6</td>\n",
       "      <td>'18 and more'</td>\n",
       "      <td>Self</td>\n",
       "      <td>NO</td>\n",
       "    </tr>\n",
       "    <tr>\n",
       "      <th>4</th>\n",
       "      <td>1</td>\n",
       "      <td>0</td>\n",
       "      <td>0</td>\n",
       "      <td>0</td>\n",
       "      <td>0</td>\n",
       "      <td>0</td>\n",
       "      <td>0</td>\n",
       "      <td>1</td>\n",
       "      <td>0</td>\n",
       "      <td>0</td>\n",
       "      <td>...</td>\n",
       "      <td>f</td>\n",
       "      <td>?</td>\n",
       "      <td>no</td>\n",
       "      <td>no</td>\n",
       "      <td>Egypt</td>\n",
       "      <td>no</td>\n",
       "      <td>2</td>\n",
       "      <td>'18 and more'</td>\n",
       "      <td>?</td>\n",
       "      <td>NO</td>\n",
       "    </tr>\n",
       "    <tr>\n",
       "      <th>5</th>\n",
       "      <td>1</td>\n",
       "      <td>1</td>\n",
       "      <td>1</td>\n",
       "      <td>1</td>\n",
       "      <td>1</td>\n",
       "      <td>0</td>\n",
       "      <td>1</td>\n",
       "      <td>1</td>\n",
       "      <td>1</td>\n",
       "      <td>1</td>\n",
       "      <td>...</td>\n",
       "      <td>m</td>\n",
       "      <td>Others</td>\n",
       "      <td>yes</td>\n",
       "      <td>no</td>\n",
       "      <td>'United States'</td>\n",
       "      <td>no</td>\n",
       "      <td>9</td>\n",
       "      <td>'18 and more'</td>\n",
       "      <td>Self</td>\n",
       "      <td>YES</td>\n",
       "    </tr>\n",
       "    <tr>\n",
       "      <th>6</th>\n",
       "      <td>0</td>\n",
       "      <td>1</td>\n",
       "      <td>0</td>\n",
       "      <td>0</td>\n",
       "      <td>0</td>\n",
       "      <td>0</td>\n",
       "      <td>0</td>\n",
       "      <td>1</td>\n",
       "      <td>0</td>\n",
       "      <td>0</td>\n",
       "      <td>...</td>\n",
       "      <td>f</td>\n",
       "      <td>Black</td>\n",
       "      <td>no</td>\n",
       "      <td>no</td>\n",
       "      <td>'United States'</td>\n",
       "      <td>no</td>\n",
       "      <td>2</td>\n",
       "      <td>'18 and more'</td>\n",
       "      <td>Self</td>\n",
       "      <td>NO</td>\n",
       "    </tr>\n",
       "    <tr>\n",
       "      <th>7</th>\n",
       "      <td>1</td>\n",
       "      <td>1</td>\n",
       "      <td>1</td>\n",
       "      <td>1</td>\n",
       "      <td>0</td>\n",
       "      <td>0</td>\n",
       "      <td>0</td>\n",
       "      <td>0</td>\n",
       "      <td>1</td>\n",
       "      <td>0</td>\n",
       "      <td>...</td>\n",
       "      <td>m</td>\n",
       "      <td>White-European</td>\n",
       "      <td>no</td>\n",
       "      <td>no</td>\n",
       "      <td>'New Zealand'</td>\n",
       "      <td>no</td>\n",
       "      <td>5</td>\n",
       "      <td>'18 and more'</td>\n",
       "      <td>Parent</td>\n",
       "      <td>NO</td>\n",
       "    </tr>\n",
       "    <tr>\n",
       "      <th>8</th>\n",
       "      <td>1</td>\n",
       "      <td>1</td>\n",
       "      <td>0</td>\n",
       "      <td>0</td>\n",
       "      <td>1</td>\n",
       "      <td>0</td>\n",
       "      <td>0</td>\n",
       "      <td>1</td>\n",
       "      <td>1</td>\n",
       "      <td>1</td>\n",
       "      <td>...</td>\n",
       "      <td>m</td>\n",
       "      <td>White-European</td>\n",
       "      <td>no</td>\n",
       "      <td>no</td>\n",
       "      <td>'United States'</td>\n",
       "      <td>no</td>\n",
       "      <td>6</td>\n",
       "      <td>'18 and more'</td>\n",
       "      <td>Self</td>\n",
       "      <td>NO</td>\n",
       "    </tr>\n",
       "    <tr>\n",
       "      <th>9</th>\n",
       "      <td>1</td>\n",
       "      <td>1</td>\n",
       "      <td>1</td>\n",
       "      <td>1</td>\n",
       "      <td>0</td>\n",
       "      <td>1</td>\n",
       "      <td>1</td>\n",
       "      <td>1</td>\n",
       "      <td>1</td>\n",
       "      <td>0</td>\n",
       "      <td>...</td>\n",
       "      <td>m</td>\n",
       "      <td>Asian</td>\n",
       "      <td>yes</td>\n",
       "      <td>yes</td>\n",
       "      <td>Bahamas</td>\n",
       "      <td>no</td>\n",
       "      <td>8</td>\n",
       "      <td>'18 and more'</td>\n",
       "      <td>'Health care professional'</td>\n",
       "      <td>YES</td>\n",
       "    </tr>\n",
       "  </tbody>\n",
       "</table>\n",
       "<p>10 rows × 21 columns</p>\n",
       "</div>"
      ],
      "text/plain": [
       "   A1_Score  A2_Score  A3_Score  A4_Score  A5_Score  A6_Score  A7_Score  \\\n",
       "0         1         1         1         1         0         0         1   \n",
       "1         1         1         0         1         0         0         0   \n",
       "2         1         1         0         1         1         0         1   \n",
       "3         1         1         0         1         0         0         1   \n",
       "4         1         0         0         0         0         0         0   \n",
       "5         1         1         1         1         1         0         1   \n",
       "6         0         1         0         0         0         0         0   \n",
       "7         1         1         1         1         0         0         0   \n",
       "8         1         1         0         0         1         0         0   \n",
       "9         1         1         1         1         0         1         1   \n",
       "\n",
       "   A8_Score  A9_Score  A10_Score    ...    gender       ethnicity jundice  \\\n",
       "0         1         0          0    ...         f  White-European      no   \n",
       "1         1         0          1    ...         m          Latino      no   \n",
       "2         1         1          1    ...         m          Latino     yes   \n",
       "3         1         0          1    ...         f  White-European      no   \n",
       "4         1         0          0    ...         f               ?      no   \n",
       "5         1         1          1    ...         m          Others     yes   \n",
       "6         1         0          0    ...         f           Black      no   \n",
       "7         0         1          0    ...         m  White-European      no   \n",
       "8         1         1          1    ...         m  White-European      no   \n",
       "9         1         1          0    ...         m           Asian     yes   \n",
       "\n",
       "  austim    contry_of_res used_app_before result       age_desc  \\\n",
       "0     no  'United States'              no      6  '18 and more'   \n",
       "1    yes           Brazil              no      5  '18 and more'   \n",
       "2    yes            Spain              no      8  '18 and more'   \n",
       "3    yes  'United States'              no      6  '18 and more'   \n",
       "4     no            Egypt              no      2  '18 and more'   \n",
       "5     no  'United States'              no      9  '18 and more'   \n",
       "6     no  'United States'              no      2  '18 and more'   \n",
       "7     no    'New Zealand'              no      5  '18 and more'   \n",
       "8     no  'United States'              no      6  '18 and more'   \n",
       "9    yes          Bahamas              no      8  '18 and more'   \n",
       "\n",
       "                     relation Class/ASD  \n",
       "0                        Self        NO  \n",
       "1                        Self        NO  \n",
       "2                      Parent       YES  \n",
       "3                        Self        NO  \n",
       "4                           ?        NO  \n",
       "5                        Self       YES  \n",
       "6                        Self        NO  \n",
       "7                      Parent        NO  \n",
       "8                        Self        NO  \n",
       "9  'Health care professional'       YES  \n",
       "\n",
       "[10 rows x 21 columns]"
      ]
     },
     "metadata": {},
     "output_type": "display_data"
    }
   ],
   "source": [
    "import numpy as np\n",
    "import pandas as pd\n",
    "import matplotlib.pyplot as plt\n",
    "from IPython.display import display\n",
    "\n",
    "%matplotlib inline\n",
    "\n",
    "# Load data and display records\n",
    "data = pd.read_csv(\"Autism_Data.csv\", skiprows = [1])\n",
    "\n",
    "display(data.head(n=10))"
   ]
  },
  {
   "cell_type": "code",
   "execution_count": 2,
   "metadata": {
    "scrolled": true
   },
   "outputs": [
    {
     "name": "stdout",
     "output_type": "stream",
     "text": [
      "Total number of records: 704\n",
      "Patients with ASD: 189\n",
      "Patients without ASD: 515\n",
      "Percentage of patients with ASD: 26.85%\n"
     ]
    }
   ],
   "source": [
    "# Assess number of records and class distribution\n",
    "\n",
    "num_records = len(data)\n",
    "num_ASD = len(data.loc[data['Class/ASD'] == 'YES'])\n",
    "num_no_ASD = len(data.loc[data['Class/ASD'] == 'NO'])\n",
    "ASD_percent = float(num_ASD)/num_records * 100\n",
    "\n",
    "print(\"Total number of records: {}\".format(num_records))\n",
    "print(\"Patients with ASD: {}\".format(num_ASD))\n",
    "print(\"Patients without ASD: {}\".format(num_no_ASD))\n",
    "print(\"Percentage of patients with ASD: {:.2f}%\".format(ASD_percent))"
   ]
  },
  {
   "cell_type": "code",
   "execution_count": 3,
   "metadata": {},
   "outputs": [
    {
     "data": {
      "text/html": [
       "<div>\n",
       "<style scoped>\n",
       "    .dataframe tbody tr th:only-of-type {\n",
       "        vertical-align: middle;\n",
       "    }\n",
       "\n",
       "    .dataframe tbody tr th {\n",
       "        vertical-align: top;\n",
       "    }\n",
       "\n",
       "    .dataframe thead th {\n",
       "        text-align: right;\n",
       "    }\n",
       "</style>\n",
       "<table border=\"1\" class=\"dataframe\">\n",
       "  <thead>\n",
       "    <tr style=\"text-align: right;\">\n",
       "      <th></th>\n",
       "      <th>A1_Score</th>\n",
       "      <th>A2_Score</th>\n",
       "      <th>A3_Score</th>\n",
       "      <th>A4_Score</th>\n",
       "      <th>A5_Score</th>\n",
       "      <th>A6_Score</th>\n",
       "      <th>A7_Score</th>\n",
       "      <th>A8_Score</th>\n",
       "      <th>A9_Score</th>\n",
       "      <th>A10_Score</th>\n",
       "      <th>result</th>\n",
       "    </tr>\n",
       "  </thead>\n",
       "  <tbody>\n",
       "    <tr>\n",
       "      <th>count</th>\n",
       "      <td>704.000000</td>\n",
       "      <td>704.000000</td>\n",
       "      <td>704.000000</td>\n",
       "      <td>704.000000</td>\n",
       "      <td>704.000000</td>\n",
       "      <td>704.000000</td>\n",
       "      <td>704.000000</td>\n",
       "      <td>704.000000</td>\n",
       "      <td>704.000000</td>\n",
       "      <td>704.000000</td>\n",
       "      <td>704.000000</td>\n",
       "    </tr>\n",
       "    <tr>\n",
       "      <th>mean</th>\n",
       "      <td>0.721591</td>\n",
       "      <td>0.453125</td>\n",
       "      <td>0.457386</td>\n",
       "      <td>0.495739</td>\n",
       "      <td>0.498580</td>\n",
       "      <td>0.284091</td>\n",
       "      <td>0.417614</td>\n",
       "      <td>0.649148</td>\n",
       "      <td>0.323864</td>\n",
       "      <td>0.573864</td>\n",
       "      <td>4.875000</td>\n",
       "    </tr>\n",
       "    <tr>\n",
       "      <th>std</th>\n",
       "      <td>0.448535</td>\n",
       "      <td>0.498152</td>\n",
       "      <td>0.498535</td>\n",
       "      <td>0.500337</td>\n",
       "      <td>0.500353</td>\n",
       "      <td>0.451301</td>\n",
       "      <td>0.493516</td>\n",
       "      <td>0.477576</td>\n",
       "      <td>0.468281</td>\n",
       "      <td>0.494866</td>\n",
       "      <td>2.501493</td>\n",
       "    </tr>\n",
       "    <tr>\n",
       "      <th>min</th>\n",
       "      <td>0.000000</td>\n",
       "      <td>0.000000</td>\n",
       "      <td>0.000000</td>\n",
       "      <td>0.000000</td>\n",
       "      <td>0.000000</td>\n",
       "      <td>0.000000</td>\n",
       "      <td>0.000000</td>\n",
       "      <td>0.000000</td>\n",
       "      <td>0.000000</td>\n",
       "      <td>0.000000</td>\n",
       "      <td>0.000000</td>\n",
       "    </tr>\n",
       "    <tr>\n",
       "      <th>25%</th>\n",
       "      <td>0.000000</td>\n",
       "      <td>0.000000</td>\n",
       "      <td>0.000000</td>\n",
       "      <td>0.000000</td>\n",
       "      <td>0.000000</td>\n",
       "      <td>0.000000</td>\n",
       "      <td>0.000000</td>\n",
       "      <td>0.000000</td>\n",
       "      <td>0.000000</td>\n",
       "      <td>0.000000</td>\n",
       "      <td>3.000000</td>\n",
       "    </tr>\n",
       "    <tr>\n",
       "      <th>50%</th>\n",
       "      <td>1.000000</td>\n",
       "      <td>0.000000</td>\n",
       "      <td>0.000000</td>\n",
       "      <td>0.000000</td>\n",
       "      <td>0.000000</td>\n",
       "      <td>0.000000</td>\n",
       "      <td>0.000000</td>\n",
       "      <td>1.000000</td>\n",
       "      <td>0.000000</td>\n",
       "      <td>1.000000</td>\n",
       "      <td>4.000000</td>\n",
       "    </tr>\n",
       "    <tr>\n",
       "      <th>75%</th>\n",
       "      <td>1.000000</td>\n",
       "      <td>1.000000</td>\n",
       "      <td>1.000000</td>\n",
       "      <td>1.000000</td>\n",
       "      <td>1.000000</td>\n",
       "      <td>1.000000</td>\n",
       "      <td>1.000000</td>\n",
       "      <td>1.000000</td>\n",
       "      <td>1.000000</td>\n",
       "      <td>1.000000</td>\n",
       "      <td>7.000000</td>\n",
       "    </tr>\n",
       "    <tr>\n",
       "      <th>max</th>\n",
       "      <td>1.000000</td>\n",
       "      <td>1.000000</td>\n",
       "      <td>1.000000</td>\n",
       "      <td>1.000000</td>\n",
       "      <td>1.000000</td>\n",
       "      <td>1.000000</td>\n",
       "      <td>1.000000</td>\n",
       "      <td>1.000000</td>\n",
       "      <td>1.000000</td>\n",
       "      <td>1.000000</td>\n",
       "      <td>10.000000</td>\n",
       "    </tr>\n",
       "  </tbody>\n",
       "</table>\n",
       "</div>"
      ],
      "text/plain": [
       "         A1_Score    A2_Score    A3_Score    A4_Score    A5_Score    A6_Score  \\\n",
       "count  704.000000  704.000000  704.000000  704.000000  704.000000  704.000000   \n",
       "mean     0.721591    0.453125    0.457386    0.495739    0.498580    0.284091   \n",
       "std      0.448535    0.498152    0.498535    0.500337    0.500353    0.451301   \n",
       "min      0.000000    0.000000    0.000000    0.000000    0.000000    0.000000   \n",
       "25%      0.000000    0.000000    0.000000    0.000000    0.000000    0.000000   \n",
       "50%      1.000000    0.000000    0.000000    0.000000    0.000000    0.000000   \n",
       "75%      1.000000    1.000000    1.000000    1.000000    1.000000    1.000000   \n",
       "max      1.000000    1.000000    1.000000    1.000000    1.000000    1.000000   \n",
       "\n",
       "         A7_Score    A8_Score    A9_Score   A10_Score      result  \n",
       "count  704.000000  704.000000  704.000000  704.000000  704.000000  \n",
       "mean     0.417614    0.649148    0.323864    0.573864    4.875000  \n",
       "std      0.493516    0.477576    0.468281    0.494866    2.501493  \n",
       "min      0.000000    0.000000    0.000000    0.000000    0.000000  \n",
       "25%      0.000000    0.000000    0.000000    0.000000    3.000000  \n",
       "50%      0.000000    1.000000    0.000000    1.000000    4.000000  \n",
       "75%      1.000000    1.000000    1.000000    1.000000    7.000000  \n",
       "max      1.000000    1.000000    1.000000    1.000000   10.000000  "
      ]
     },
     "execution_count": 3,
     "metadata": {},
     "output_type": "execute_result"
    }
   ],
   "source": [
    "# Summarize data\n",
    "data.describe()"
   ]
  },
  {
   "cell_type": "code",
   "execution_count": 4,
   "metadata": {},
   "outputs": [
    {
     "data": {
      "text/plain": [
       "A1_Score            int64\n",
       "A2_Score            int64\n",
       "A3_Score            int64\n",
       "A4_Score            int64\n",
       "A5_Score            int64\n",
       "A6_Score            int64\n",
       "A7_Score            int64\n",
       "A8_Score            int64\n",
       "A9_Score            int64\n",
       "A10_Score           int64\n",
       "age                object\n",
       "gender             object\n",
       "ethnicity          object\n",
       "jundice            object\n",
       "austim             object\n",
       "contry_of_res      object\n",
       "used_app_before    object\n",
       "result              int64\n",
       "age_desc           object\n",
       "relation           object\n",
       "Class/ASD          object\n",
       "dtype: object"
      ]
     },
     "execution_count": 4,
     "metadata": {},
     "output_type": "execute_result"
    }
   ],
   "source": [
    "# Check data types\n",
    "data.dtypes"
   ]
  },
  {
   "cell_type": "code",
   "execution_count": 5,
   "metadata": {},
   "outputs": [],
   "source": [
    "# Class column of 'result' was dropped as this is a variable that depends on the A1_score etc. values.\n",
    "# Rename columns for clarity.\n",
    "\n",
    "data = data.drop(['result'], axis=1)\n",
    "data = data.rename(columns={'jundice': 'jaundice', 'austim': 'family_ASD', 'contry_of_res': 'country'})"
   ]
  },
  {
   "cell_type": "code",
   "execution_count": 6,
   "metadata": {},
   "outputs": [
    {
     "data": {
      "text/plain": [
       "array([[<matplotlib.axes._subplots.AxesSubplot object at 0x000002376C005EF0>,\n",
       "        <matplotlib.axes._subplots.AxesSubplot object at 0x000002376C112EB8>,\n",
       "        <matplotlib.axes._subplots.AxesSubplot object at 0x000002376C140438>],\n",
       "       [<matplotlib.axes._subplots.AxesSubplot object at 0x000002376C1613C8>,\n",
       "        <matplotlib.axes._subplots.AxesSubplot object at 0x000002376C3C43C8>,\n",
       "        <matplotlib.axes._subplots.AxesSubplot object at 0x000002376C3E72E8>],\n",
       "       [<matplotlib.axes._subplots.AxesSubplot object at 0x000002376C3F95F8>,\n",
       "        <matplotlib.axes._subplots.AxesSubplot object at 0x000002376C168160>,\n",
       "        <matplotlib.axes._subplots.AxesSubplot object at 0x000002376C44C6D8>],\n",
       "       [<matplotlib.axes._subplots.AxesSubplot object at 0x000002376C470908>,\n",
       "        <matplotlib.axes._subplots.AxesSubplot object at 0x000002376C483390>,\n",
       "        <matplotlib.axes._subplots.AxesSubplot object at 0x000002376C4B8898>]],\n",
       "      dtype=object)"
      ]
     },
     "execution_count": 6,
     "metadata": {},
     "output_type": "execute_result"
    },
    {
     "data": {
      "image/png": "[encoded data removed]",
      "text/plain": [
       "<matplotlib.figure.Figure at 0x2376b5c9d68>"
      ]
     },
     "metadata": {},
     "output_type": "display_data"
    }
   ],
   "source": [
    "# Visualize continuous data\n",
    "import seaborn\n",
    "data[['A1_Score', 'A2_Score', 'A3_Score', 'A4_Score', 'A5_Score', 'A6_Score', 'A7_Score', \\\n",
    "      'A8_Score', 'A9_Score', 'A10_Score']].hist(figsize = (10,10))"
   ]
  },
  {
   "cell_type": "code",
   "execution_count": 7,
   "metadata": {
    "scrolled": false
   },
   "outputs": [
    {
     "data": {
      "image/png": "[encoded data removed]",
      "text/plain": [
       "<matplotlib.figure.Figure at 0x2376c508208>"
      ]
     },
     "metadata": {},
     "output_type": "display_data"
    },
    {
     "data": {
      "image/png": "[encoded data removed]",
      "text/plain": [
       "<matplotlib.figure.Figure at 0x2376c65b7b8>"
      ]
     },
     "metadata": {},
     "output_type": "display_data"
    },
    {
     "data": {
      "image/png": "[encoded data removed]",
      "text/plain": [
       "<matplotlib.figure.Figure at 0x2376c699ba8>"
      ]
     },
     "metadata": {},
     "output_type": "display_data"
    },
    {
     "data": {
      "image/png": "[encoded data removed]",
      "text/plain": [
       "<matplotlib.figure.Figure at 0x2376c6e25f8>"
      ]
     },
     "metadata": {},
     "output_type": "display_data"
    },
    {
     "data": {
      "image/png": "[encoded data removed]",
      "text/plain": [
       "<matplotlib.figure.Figure at 0x2376c704f28>"
      ]
     },
     "metadata": {},
     "output_type": "display_data"
    },
    {
     "data": {
      "image/png": "[encoded data removed]",
      "text/plain": [
       "<matplotlib.figure.Figure at 0x2376c74a940>"
      ]
     },
     "metadata": {},
     "output_type": "display_data"
    },
    {
     "data": {
      "image/png": "[encoded data removed]",
      "text/plain": [
       "<matplotlib.figure.Figure at 0x2376da480b8>"
      ]
     },
     "metadata": {},
     "output_type": "display_data"
    },
    {
     "data": {
      "image/png": "[encoded data removed]",
      "text/plain": [
       "<matplotlib.figure.Figure at 0x2376da822b0>"
      ]
     },
     "metadata": {},
     "output_type": "display_data"
    },
    {
     "data": {
      "image/png": "[encoded data removed]",
      "text/plain": [
       "<matplotlib.figure.Figure at 0x2376dac2550>"
      ]
     },
     "metadata": {},
     "output_type": "display_data"
    },
    {
     "data": {
      "image/png": "[encoded data removed]",
      "text/plain": [
       "<matplotlib.figure.Figure at 0x2376daede80>"
      ]
     },
     "metadata": {},
     "output_type": "display_data"
    }
   ],
   "source": [
    "# Visualize categorical data\n",
    "def bar_plot(df, names):\n",
    "    \n",
    "    for i, name in enumerate(names):\n",
    "\n",
    "        data_cross = pd.crosstab(index = df[name], columns = \"count\")\n",
    "        data_cross.plot.bar(figsize = (12,4), legend = False)\n",
    "    return\n",
    "\n",
    "names = ['age', 'gender', 'ethnicity', 'jaundice', 'family_ASD', 'country', 'used_app_before', \\\n",
    "        'age_desc', 'relation', 'Class/ASD']\n",
    "\n",
    "bar_plot(data,names)"
   ]
  },
  {
   "cell_type": "code",
   "execution_count": 8,
   "metadata": {},
   "outputs": [],
   "source": [
    "# Drop columns not related to screening questions and patient demographics\n",
    "\n",
    "data = data.drop(['used_app_before', 'age_desc', 'relation'], axis=1)"
   ]
  },
  {
   "cell_type": "markdown",
   "metadata": {},
   "source": [
    "### Data preprocessing\n",
    "\n",
    "Next, the dataset was preprocessed using scaling, log transformations and one-hot encoding."
   ]
  },
  {
   "cell_type": "code",
   "execution_count": 9,
   "metadata": {},
   "outputs": [
    {
     "data": {
      "text/plain": [
       "609"
      ]
     },
     "execution_count": 9,
     "metadata": {},
     "output_type": "execute_result"
    }
   ],
   "source": [
    "# Delete records with missing data as '?'. New dataset has 609 records.\n",
    "\n",
    "data = data[(data['age'] != '?') & (data['ethnicity'] != '?')]\n",
    "\n",
    "len(data)"
   ]
  },
  {
   "cell_type": "code",
   "execution_count": 10,
   "metadata": {},
   "outputs": [],
   "source": [
    "# Change 'age' to numeric variable\n",
    "\n",
    "data['age'] = pd.to_numeric(data['age'])"
   ]
  },
  {
   "cell_type": "code",
   "execution_count": 11,
   "metadata": {},
   "outputs": [
    {
     "data": {
      "text/plain": [
       "<matplotlib.axes._subplots.AxesSubplot at 0x2376db20940>"
      ]
     },
     "execution_count": 11,
     "metadata": {},
     "output_type": "execute_result"
    },
    {
     "data": {
      "image/png": "[encoded data removed]",
      "text/plain": [
       "<matplotlib.figure.Figure at 0x2376db20748>"
      ]
     },
     "metadata": {},
     "output_type": "display_data"
    }
   ],
   "source": [
    "# Check age distribution\n",
    "\n",
    "data['age'].hist()"
   ]
  },
  {
   "cell_type": "code",
   "execution_count": 12,
   "metadata": {},
   "outputs": [],
   "source": [
    "# Delete records with age > 100.\n",
    "\n",
    "data = data[(data['age'] < 100)]"
   ]
  },
  {
   "cell_type": "code",
   "execution_count": 13,
   "metadata": {
    "scrolled": true
   },
   "outputs": [
    {
     "data": {
      "text/plain": [
       "Text(0.5,0,'Age')"
      ]
     },
     "execution_count": 13,
     "metadata": {},
     "output_type": "execute_result"
    },
    {
     "data": {
      "image/png": "[encoded data removed]",
      "text/plain": [
       "<matplotlib.figure.Figure at 0x2376c453470>"
      ]
     },
     "metadata": {},
     "output_type": "display_data"
    }
   ],
   "source": [
    "# Check 'age' distribution\n",
    "\n",
    "ax = data['age'].hist()\n",
    "plt.suptitle(\"Age distribution\")\n",
    "ax.set_xlabel(\"Age\")"
   ]
  },
  {
   "cell_type": "code",
   "execution_count": 14,
   "metadata": {},
   "outputs": [
    {
     "data": {
      "text/plain": [
       "29.63486842105263"
      ]
     },
     "execution_count": 14,
     "metadata": {},
     "output_type": "execute_result"
    }
   ],
   "source": [
    "# Calculate age mean\n",
    "\n",
    "data['age'].mean()"
   ]
  },
  {
   "cell_type": "code",
   "execution_count": 15,
   "metadata": {
    "scrolled": true
   },
   "outputs": [
    {
     "data": {
      "text/plain": [
       "<matplotlib.axes._subplots.AxesSubplot at 0x2376db27cc0>"
      ]
     },
     "execution_count": 15,
     "metadata": {},
     "output_type": "execute_result"
    },
    {
     "data": {
      "image/png": "[encoded data removed]",
      "text/plain": [
       "<matplotlib.figure.Figure at 0x2376c79eb70>"
      ]
     },
     "metadata": {},
     "output_type": "display_data"
    }
   ],
   "source": [
    "# Separate data into features and targets\n",
    "\n",
    "target_raw = data['Class/ASD']\n",
    "features_raw = data.drop('Class/ASD', axis = 1)\n",
    "\n",
    "# Log-transform the skewed 'age' feature\n",
    "skewed = ['age']\n",
    "features_log_transformed = pd.DataFrame(data = features_raw)\n",
    "features_log_transformed[skewed] = features_raw[skewed].apply(lambda x: np.log(x + 1))\n",
    "\n",
    "features_log_transformed['age'].hist()"
   ]
  },
  {
   "cell_type": "code",
   "execution_count": 16,
   "metadata": {},
   "outputs": [
    {
     "data": {
      "text/html": [
       "<div>\n",
       "<style scoped>\n",
       "    .dataframe tbody tr th:only-of-type {\n",
       "        vertical-align: middle;\n",
       "    }\n",
       "\n",
       "    .dataframe tbody tr th {\n",
       "        vertical-align: top;\n",
       "    }\n",
       "\n",
       "    .dataframe thead th {\n",
       "        text-align: right;\n",
       "    }\n",
       "</style>\n",
       "<table border=\"1\" class=\"dataframe\">\n",
       "  <thead>\n",
       "    <tr style=\"text-align: right;\">\n",
       "      <th></th>\n",
       "      <th>A1_Score</th>\n",
       "      <th>A2_Score</th>\n",
       "      <th>A3_Score</th>\n",
       "      <th>A4_Score</th>\n",
       "      <th>A5_Score</th>\n",
       "      <th>A6_Score</th>\n",
       "      <th>A7_Score</th>\n",
       "      <th>A8_Score</th>\n",
       "      <th>A9_Score</th>\n",
       "      <th>A10_Score</th>\n",
       "      <th>age</th>\n",
       "      <th>gender</th>\n",
       "      <th>ethnicity</th>\n",
       "      <th>jaundice</th>\n",
       "      <th>family_ASD</th>\n",
       "      <th>country</th>\n",
       "    </tr>\n",
       "  </thead>\n",
       "  <tbody>\n",
       "    <tr>\n",
       "      <th>0</th>\n",
       "      <td>1.0</td>\n",
       "      <td>1.0</td>\n",
       "      <td>1.0</td>\n",
       "      <td>1.0</td>\n",
       "      <td>0.0</td>\n",
       "      <td>0.0</td>\n",
       "      <td>1.0</td>\n",
       "      <td>1.0</td>\n",
       "      <td>0.0</td>\n",
       "      <td>0.0</td>\n",
       "      <td>0.315779</td>\n",
       "      <td>f</td>\n",
       "      <td>White-European</td>\n",
       "      <td>no</td>\n",
       "      <td>no</td>\n",
       "      <td>'United States'</td>\n",
       "    </tr>\n",
       "    <tr>\n",
       "      <th>1</th>\n",
       "      <td>1.0</td>\n",
       "      <td>1.0</td>\n",
       "      <td>0.0</td>\n",
       "      <td>1.0</td>\n",
       "      <td>0.0</td>\n",
       "      <td>0.0</td>\n",
       "      <td>0.0</td>\n",
       "      <td>1.0</td>\n",
       "      <td>0.0</td>\n",
       "      <td>1.0</td>\n",
       "      <td>0.255841</td>\n",
       "      <td>m</td>\n",
       "      <td>Latino</td>\n",
       "      <td>no</td>\n",
       "      <td>yes</td>\n",
       "      <td>Brazil</td>\n",
       "    </tr>\n",
       "    <tr>\n",
       "      <th>2</th>\n",
       "      <td>1.0</td>\n",
       "      <td>1.0</td>\n",
       "      <td>0.0</td>\n",
       "      <td>1.0</td>\n",
       "      <td>1.0</td>\n",
       "      <td>0.0</td>\n",
       "      <td>1.0</td>\n",
       "      <td>1.0</td>\n",
       "      <td>1.0</td>\n",
       "      <td>1.0</td>\n",
       "      <td>0.344102</td>\n",
       "      <td>m</td>\n",
       "      <td>Latino</td>\n",
       "      <td>yes</td>\n",
       "      <td>yes</td>\n",
       "      <td>Spain</td>\n",
       "    </tr>\n",
       "    <tr>\n",
       "      <th>3</th>\n",
       "      <td>1.0</td>\n",
       "      <td>1.0</td>\n",
       "      <td>0.0</td>\n",
       "      <td>1.0</td>\n",
       "      <td>0.0</td>\n",
       "      <td>0.0</td>\n",
       "      <td>1.0</td>\n",
       "      <td>1.0</td>\n",
       "      <td>0.0</td>\n",
       "      <td>1.0</td>\n",
       "      <td>0.539828</td>\n",
       "      <td>f</td>\n",
       "      <td>White-European</td>\n",
       "      <td>no</td>\n",
       "      <td>yes</td>\n",
       "      <td>'United States'</td>\n",
       "    </tr>\n",
       "    <tr>\n",
       "      <th>5</th>\n",
       "      <td>1.0</td>\n",
       "      <td>1.0</td>\n",
       "      <td>1.0</td>\n",
       "      <td>1.0</td>\n",
       "      <td>1.0</td>\n",
       "      <td>0.0</td>\n",
       "      <td>1.0</td>\n",
       "      <td>1.0</td>\n",
       "      <td>1.0</td>\n",
       "      <td>1.0</td>\n",
       "      <td>0.561166</td>\n",
       "      <td>m</td>\n",
       "      <td>Others</td>\n",
       "      <td>yes</td>\n",
       "      <td>no</td>\n",
       "      <td>'United States'</td>\n",
       "    </tr>\n",
       "  </tbody>\n",
       "</table>\n",
       "</div>"
      ],
      "text/plain": [
       "   A1_Score  A2_Score  A3_Score  A4_Score  A5_Score  A6_Score  A7_Score  \\\n",
       "0       1.0       1.0       1.0       1.0       0.0       0.0       1.0   \n",
       "1       1.0       1.0       0.0       1.0       0.0       0.0       0.0   \n",
       "2       1.0       1.0       0.0       1.0       1.0       0.0       1.0   \n",
       "3       1.0       1.0       0.0       1.0       0.0       0.0       1.0   \n",
       "5       1.0       1.0       1.0       1.0       1.0       0.0       1.0   \n",
       "\n",
       "   A8_Score  A9_Score  A10_Score       age gender       ethnicity jaundice  \\\n",
       "0       1.0       0.0        0.0  0.315779      f  White-European       no   \n",
       "1       1.0       0.0        1.0  0.255841      m          Latino       no   \n",
       "2       1.0       1.0        1.0  0.344102      m          Latino      yes   \n",
       "3       1.0       0.0        1.0  0.539828      f  White-European       no   \n",
       "5       1.0       1.0        1.0  0.561166      m          Others      yes   \n",
       "\n",
       "  family_ASD          country  \n",
       "0         no  'United States'  \n",
       "1        yes           Brazil  \n",
       "2        yes            Spain  \n",
       "3        yes  'United States'  \n",
       "5         no  'United States'  "
      ]
     },
     "metadata": {},
     "output_type": "display_data"
    }
   ],
   "source": [
    "# Scale numerical features\n",
    "\n",
    "from sklearn.preprocessing import MinMaxScaler\n",
    "\n",
    "scaler = MinMaxScaler() \n",
    "numerical = ['age', 'A1_Score', 'A2_Score', 'A3_Score', 'A4_Score', 'A5_Score', 'A6_Score', 'A7_Score', \\\n",
    "      'A8_Score', 'A9_Score', 'A10_Score']\n",
    "\n",
    "features_log_minmax_transform = pd.DataFrame(data = features_log_transformed)\n",
    "features_log_minmax_transform[numerical] = scaler.fit_transform(features_log_transformed[numerical])\n",
    "\n",
    "display(features_log_minmax_transform.head(n = 5))"
   ]
  },
  {
   "cell_type": "code",
   "execution_count": 17,
   "metadata": {},
   "outputs": [
    {
     "data": {
      "text/html": [
       "<div>\n",
       "<style scoped>\n",
       "    .dataframe tbody tr th:only-of-type {\n",
       "        vertical-align: middle;\n",
       "    }\n",
       "\n",
       "    .dataframe tbody tr th {\n",
       "        vertical-align: top;\n",
       "    }\n",
       "\n",
       "    .dataframe thead th {\n",
       "        text-align: right;\n",
       "    }\n",
       "</style>\n",
       "<table border=\"1\" class=\"dataframe\">\n",
       "  <thead>\n",
       "    <tr style=\"text-align: right;\">\n",
       "      <th></th>\n",
       "      <th>A1_Score</th>\n",
       "      <th>A2_Score</th>\n",
       "      <th>A3_Score</th>\n",
       "      <th>A4_Score</th>\n",
       "      <th>A5_Score</th>\n",
       "      <th>A6_Score</th>\n",
       "      <th>A7_Score</th>\n",
       "      <th>A8_Score</th>\n",
       "      <th>A9_Score</th>\n",
       "      <th>A10_Score</th>\n",
       "      <th>...</th>\n",
       "      <th>country_Portugal</th>\n",
       "      <th>country_Romania</th>\n",
       "      <th>country_Russia</th>\n",
       "      <th>country_Serbia</th>\n",
       "      <th>country_Spain</th>\n",
       "      <th>country_Sweden</th>\n",
       "      <th>country_Tonga</th>\n",
       "      <th>country_Turkey</th>\n",
       "      <th>country_Ukraine</th>\n",
       "      <th>country_Uruguay</th>\n",
       "    </tr>\n",
       "  </thead>\n",
       "  <tbody>\n",
       "    <tr>\n",
       "      <th>0</th>\n",
       "      <td>1.0</td>\n",
       "      <td>1.0</td>\n",
       "      <td>1.0</td>\n",
       "      <td>1.0</td>\n",
       "      <td>0.0</td>\n",
       "      <td>0.0</td>\n",
       "      <td>1.0</td>\n",
       "      <td>1.0</td>\n",
       "      <td>0.0</td>\n",
       "      <td>0.0</td>\n",
       "      <td>...</td>\n",
       "      <td>0</td>\n",
       "      <td>0</td>\n",
       "      <td>0</td>\n",
       "      <td>0</td>\n",
       "      <td>0</td>\n",
       "      <td>0</td>\n",
       "      <td>0</td>\n",
       "      <td>0</td>\n",
       "      <td>0</td>\n",
       "      <td>0</td>\n",
       "    </tr>\n",
       "    <tr>\n",
       "      <th>1</th>\n",
       "      <td>1.0</td>\n",
       "      <td>1.0</td>\n",
       "      <td>0.0</td>\n",
       "      <td>1.0</td>\n",
       "      <td>0.0</td>\n",
       "      <td>0.0</td>\n",
       "      <td>0.0</td>\n",
       "      <td>1.0</td>\n",
       "      <td>0.0</td>\n",
       "      <td>1.0</td>\n",
       "      <td>...</td>\n",
       "      <td>0</td>\n",
       "      <td>0</td>\n",
       "      <td>0</td>\n",
       "      <td>0</td>\n",
       "      <td>0</td>\n",
       "      <td>0</td>\n",
       "      <td>0</td>\n",
       "      <td>0</td>\n",
       "      <td>0</td>\n",
       "      <td>0</td>\n",
       "    </tr>\n",
       "    <tr>\n",
       "      <th>2</th>\n",
       "      <td>1.0</td>\n",
       "      <td>1.0</td>\n",
       "      <td>0.0</td>\n",
       "      <td>1.0</td>\n",
       "      <td>1.0</td>\n",
       "      <td>0.0</td>\n",
       "      <td>1.0</td>\n",
       "      <td>1.0</td>\n",
       "      <td>1.0</td>\n",
       "      <td>1.0</td>\n",
       "      <td>...</td>\n",
       "      <td>0</td>\n",
       "      <td>0</td>\n",
       "      <td>0</td>\n",
       "      <td>0</td>\n",
       "      <td>1</td>\n",
       "      <td>0</td>\n",
       "      <td>0</td>\n",
       "      <td>0</td>\n",
       "      <td>0</td>\n",
       "      <td>0</td>\n",
       "    </tr>\n",
       "    <tr>\n",
       "      <th>3</th>\n",
       "      <td>1.0</td>\n",
       "      <td>1.0</td>\n",
       "      <td>0.0</td>\n",
       "      <td>1.0</td>\n",
       "      <td>0.0</td>\n",
       "      <td>0.0</td>\n",
       "      <td>1.0</td>\n",
       "      <td>1.0</td>\n",
       "      <td>0.0</td>\n",
       "      <td>1.0</td>\n",
       "      <td>...</td>\n",
       "      <td>0</td>\n",
       "      <td>0</td>\n",
       "      <td>0</td>\n",
       "      <td>0</td>\n",
       "      <td>0</td>\n",
       "      <td>0</td>\n",
       "      <td>0</td>\n",
       "      <td>0</td>\n",
       "      <td>0</td>\n",
       "      <td>0</td>\n",
       "    </tr>\n",
       "    <tr>\n",
       "      <th>5</th>\n",
       "      <td>1.0</td>\n",
       "      <td>1.0</td>\n",
       "      <td>1.0</td>\n",
       "      <td>1.0</td>\n",
       "      <td>1.0</td>\n",
       "      <td>0.0</td>\n",
       "      <td>1.0</td>\n",
       "      <td>1.0</td>\n",
       "      <td>1.0</td>\n",
       "      <td>1.0</td>\n",
       "      <td>...</td>\n",
       "      <td>0</td>\n",
       "      <td>0</td>\n",
       "      <td>0</td>\n",
       "      <td>0</td>\n",
       "      <td>0</td>\n",
       "      <td>0</td>\n",
       "      <td>0</td>\n",
       "      <td>0</td>\n",
       "      <td>0</td>\n",
       "      <td>0</td>\n",
       "    </tr>\n",
       "  </tbody>\n",
       "</table>\n",
       "<p>5 rows × 88 columns</p>\n",
       "</div>"
      ],
      "text/plain": [
       "   A1_Score  A2_Score  A3_Score  A4_Score  A5_Score  A6_Score  A7_Score  \\\n",
       "0       1.0       1.0       1.0       1.0       0.0       0.0       1.0   \n",
       "1       1.0       1.0       0.0       1.0       0.0       0.0       0.0   \n",
       "2       1.0       1.0       0.0       1.0       1.0       0.0       1.0   \n",
       "3       1.0       1.0       0.0       1.0       0.0       0.0       1.0   \n",
       "5       1.0       1.0       1.0       1.0       1.0       0.0       1.0   \n",
       "\n",
       "   A8_Score  A9_Score  A10_Score       ...         country_Portugal  \\\n",
       "0       1.0       0.0        0.0       ...                        0   \n",
       "1       1.0       0.0        1.0       ...                        0   \n",
       "2       1.0       1.0        1.0       ...                        0   \n",
       "3       1.0       0.0        1.0       ...                        0   \n",
       "5       1.0       1.0        1.0       ...                        0   \n",
       "\n",
       "   country_Romania  country_Russia  country_Serbia  country_Spain  \\\n",
       "0                0               0               0              0   \n",
       "1                0               0               0              0   \n",
       "2                0               0               0              1   \n",
       "3                0               0               0              0   \n",
       "5                0               0               0              0   \n",
       "\n",
       "   country_Sweden  country_Tonga  country_Turkey  country_Ukraine  \\\n",
       "0               0              0               0                0   \n",
       "1               0              0               0                0   \n",
       "2               0              0               0                0   \n",
       "3               0              0               0                0   \n",
       "5               0              0               0                0   \n",
       "\n",
       "   country_Uruguay  \n",
       "0                0  \n",
       "1                0  \n",
       "2                0  \n",
       "3                0  \n",
       "5                0  \n",
       "\n",
       "[5 rows x 88 columns]"
      ]
     },
     "execution_count": 17,
     "metadata": {},
     "output_type": "execute_result"
    }
   ],
   "source": [
    "# One-hot encode features\n",
    "features_final = pd.get_dummies(features_log_minmax_transform)\n",
    "\n",
    "# Change class data to numerical values\n",
    "target = target_raw.replace(['YES','NO'], [1, 0])\n",
    "\n",
    "features_final.head()"
   ]
  },
  {
   "cell_type": "markdown",
   "metadata": {},
   "source": [
    "### Algorithm selection\n",
    "\n",
    "The data was then split into training and testing sets and an algorithm was selected."
   ]
  },
  {
   "cell_type": "code",
   "execution_count": 18,
   "metadata": {},
   "outputs": [
    {
     "name": "stdout",
     "output_type": "stream",
     "text": [
      "Training set has 486 samples.\n",
      "Testing set has 122 samples.\n"
     ]
    }
   ],
   "source": [
    "# Split features and target data into training and testing sets\n",
    "from sklearn.model_selection import train_test_split\n",
    "\n",
    "\n",
    "X_train, X_test, y_train, y_test = train_test_split(features_final, \n",
    "                                                    target, \n",
    "                                                    test_size = 0.2, \n",
    "                                                    random_state = 0)\n",
    "\n",
    "print(\"Training set has {} samples.\".format(X_train.shape[0]))\n",
    "print(\"Testing set has {} samples.\".format(X_test.shape[0])) "
   ]
  },
  {
   "cell_type": "code",
   "execution_count": 19,
   "metadata": {},
   "outputs": [],
   "source": [
    "from sklearn.metrics import recall_score, confusion_matrix\n",
    "\n",
    "# Function to be used for recall and specificity metrics for initial classifier selection\n",
    "def clf_predict(clf, X_train, X_test, y_train, y_test):\n",
    "   \n",
    "    clf_results = {}\n",
    "    clf = clf.fit(X_train, y_train)\n",
    "    clf_predictions = clf.predict(X_test)\n",
    "    clf_results['recall'] = recall_score(y_test, clf_predictions)\n",
    "    conf = confusion_matrix(y_test, clf_predictions)\n",
    "    clf_results['specificity'] = float(conf[0][0])/(conf[0][0] + conf[0][1])\n",
    "    return clf_results\n"
   ]
  },
  {
   "cell_type": "code",
   "execution_count": 20,
   "metadata": {},
   "outputs": [
    {
     "name": "stdout",
     "output_type": "stream",
     "text": [
      "DecisionTreeClassifier {'recall': 0.875, 'specificity': 0.9}\n",
      "SVC {'recall': 0.90625, 'specificity': 0.9555555555555556}\n",
      "RandomForestClassifier {'recall': 0.78125, 'specificity': 0.9777777777777777}\n",
      "GaussianNB {'recall': 0.9375, 'specificity': 0.07777777777777778}\n"
     ]
    }
   ],
   "source": [
    "# Evaluate performance of 4 algorithms using default parameters\n",
    "\n",
    "from sklearn.naive_bayes import GaussianNB\n",
    "from sklearn.tree import DecisionTreeClassifier\n",
    "from sklearn.svm import SVC\n",
    "from sklearn.ensemble import RandomForestClassifier\n",
    "\n",
    "\n",
    "clf_A = DecisionTreeClassifier(random_state = 42)\n",
    "clf_B = SVC(random_state = 42)\n",
    "clf_C = RandomForestClassifier(random_state = 42)\n",
    "clf_D = GaussianNB()\n",
    "\n",
    "results = {}\n",
    "\n",
    "for clf in [clf_A, clf_B, clf_C, clf_D]:\n",
    "    clf_name = clf.__class__.__name__\n",
    "    results[clf_name] = {}\n",
    "    \n",
    "    results[clf_name] = clf_predict(clf, X_train, X_test, y_train, y_test)\n",
    "\n",
    "for k, v in results.items():\n",
    "    print(k, v)\n",
    "    \n"
   ]
  },
  {
   "cell_type": "markdown",
   "metadata": {},
   "source": [
    "### Final algorithm parameter tuning and testing\n",
    "\n",
    "The Support Vector classifier underwent further parameter tuning to optimize the recall as this was lower than the specificity. The classifier was also tested on a subset of features to examine any impact on model performance."
   ]
  },
  {
   "cell_type": "code",
   "execution_count": 21,
   "metadata": {},
   "outputs": [],
   "source": [
    "# Define specificity function to be used in model evaluation\n",
    "\n",
    "def specificity(ground_truth, predictions):\n",
    "    score_conf = confusion_matrix(ground_truth, predictions)\n",
    "    return float(score_conf[0][0])/(score_conf[0][0] + score_conf[0][1])"
   ]
  },
  {
   "cell_type": "code",
   "execution_count": 22,
   "metadata": {},
   "outputs": [
    {
     "name": "stdout",
     "output_type": "stream",
     "text": [
      "SVC(C=4, cache_size=200, class_weight=None, coef0=0.0,\n",
      "  decision_function_shape='ovr', degree=3, gamma=0.1, kernel='rbf',\n",
      "  max_iter=-1, probability=False, random_state=42, shrinking=True,\n",
      "  tol=0.001, verbose=False)\n",
      "Recall is 0.9375\n",
      "Specificity is 0.9777777777777777\n"
     ]
    }
   ],
   "source": [
    "# Tune the 'C' and 'gamma' parameters of the SVC\n",
    "\n",
    "from sklearn.metrics import make_scorer\n",
    "from sklearn.model_selection import GridSearchCV\n",
    "\n",
    "clf_final_3 = SVC(random_state = 42)\n",
    "\n",
    "# SVC parameters\n",
    "parameters = {'C': range(1,10), 'gamma': np.logspace(-9, 3, 13)}\n",
    "\n",
    "# Use recall score for grid search\n",
    "recall_scorer = make_scorer(recall_score)\n",
    "\n",
    "# Peform grid search and find the best classifier\n",
    "grid_obj = GridSearchCV(clf_final_3, param_grid = parameters, scoring = recall_scorer )\n",
    "grid_fit = grid_obj.fit(X_train, y_train)\n",
    "\n",
    "\n",
    "best_clf = grid_fit.best_estimator_\n",
    "print(best_clf)\n",
    "\n",
    "# Make predictions using optimized model and print specificity and recall\n",
    "best_predictions = best_clf.predict(X_test)\n",
    "\n",
    "print(\"Recall is {}\". format(recall_score(y_test, best_predictions)))\n",
    "\n",
    "print(\"Specificity is {}\".format(specificity(y_test, best_predictions)))"
   ]
  },
  {
   "cell_type": "code",
   "execution_count": 23,
   "metadata": {},
   "outputs": [
    {
     "name": "stderr",
     "output_type": "stream",
     "text": [
      "C:\\Users\\Anjali\\Anaconda3\\envs\\py35_final\\lib\\site-packages\\sklearn\\feature_selection\\univariate_selection.py:113: UserWarning: Features [41 46 49 51 54 55 57 59 64 74 75 78 81 85 87] are constant.\n",
      "  UserWarning)\n",
      "C:\\Users\\Anjali\\Anaconda3\\envs\\py35_final\\lib\\site-packages\\sklearn\\feature_selection\\univariate_selection.py:113: UserWarning: Features [23 29 41 43 45 46 48 49 51 56 57 64 71 75 76 78 85 87] are constant.\n",
      "  UserWarning)\n",
      "C:\\Users\\Anjali\\Anaconda3\\envs\\py35_final\\lib\\site-packages\\sklearn\\feature_selection\\univariate_selection.py:113: UserWarning: Features [28 32 40 41 46 49 51 53 57 64 73 75 78 83 84 85 86 87] are constant.\n",
      "  UserWarning)\n",
      "C:\\Users\\Anjali\\Anaconda3\\envs\\py35_final\\lib\\site-packages\\sklearn\\feature_selection\\univariate_selection.py:113: UserWarning: Features [41 46 49 51 54 55 57 59 64 74 75 78 81 85 87] are constant.\n",
      "  UserWarning)\n",
      "C:\\Users\\Anjali\\Anaconda3\\envs\\py35_final\\lib\\site-packages\\sklearn\\feature_selection\\univariate_selection.py:113: UserWarning: Features [23 29 41 43 45 46 48 49 51 56 57 64 71 75 76 78 85 87] are constant.\n",
      "  UserWarning)\n",
      "C:\\Users\\Anjali\\Anaconda3\\envs\\py35_final\\lib\\site-packages\\sklearn\\feature_selection\\univariate_selection.py:113: UserWarning: Features [28 32 40 41 46 49 51 53 57 64 73 75 78 83 84 85 86 87] are constant.\n",
      "  UserWarning)\n",
      "C:\\Users\\Anjali\\Anaconda3\\envs\\py35_final\\lib\\site-packages\\sklearn\\feature_selection\\univariate_selection.py:113: UserWarning: Features [41 46 49 51 54 55 57 59 64 74 75 78 81 85 87] are constant.\n",
      "  UserWarning)\n",
      "C:\\Users\\Anjali\\Anaconda3\\envs\\py35_final\\lib\\site-packages\\sklearn\\feature_selection\\univariate_selection.py:113: UserWarning: Features [23 29 41 43 45 46 48 49 51 56 57 64 71 75 76 78 85 87] are constant.\n",
      "  UserWarning)\n",
      "C:\\Users\\Anjali\\Anaconda3\\envs\\py35_final\\lib\\site-packages\\sklearn\\feature_selection\\univariate_selection.py:113: UserWarning: Features [28 32 40 41 46 49 51 53 57 64 73 75 78 83 84 85 86 87] are constant.\n",
      "  UserWarning)\n",
      "C:\\Users\\Anjali\\Anaconda3\\envs\\py35_final\\lib\\site-packages\\sklearn\\feature_selection\\univariate_selection.py:113: UserWarning: Features [41 46 49 51 54 55 57 59 64 74 75 78 81 85 87] are constant.\n",
      "  UserWarning)\n",
      "C:\\Users\\Anjali\\Anaconda3\\envs\\py35_final\\lib\\site-packages\\sklearn\\feature_selection\\univariate_selection.py:113: UserWarning: Features [23 29 41 43 45 46 48 49 51 56 57 64 71 75 76 78 85 87] are constant.\n",
      "  UserWarning)\n",
      "C:\\Users\\Anjali\\Anaconda3\\envs\\py35_final\\lib\\site-packages\\sklearn\\feature_selection\\univariate_selection.py:113: UserWarning: Features [28 32 40 41 46 49 51 53 57 64 73 75 78 83 84 85 86 87] are constant.\n",
      "  UserWarning)\n",
      "C:\\Users\\Anjali\\Anaconda3\\envs\\py35_final\\lib\\site-packages\\sklearn\\feature_selection\\univariate_selection.py:113: UserWarning: Features [41 46 49 51 54 55 57 59 64 74 75 78 81 85 87] are constant.\n",
      "  UserWarning)\n",
      "C:\\Users\\Anjali\\Anaconda3\\envs\\py35_final\\lib\\site-packages\\sklearn\\feature_selection\\univariate_selection.py:113: UserWarning: Features [23 29 41 43 45 46 48 49 51 56 57 64 71 75 76 78 85 87] are constant.\n",
      "  UserWarning)\n",
      "C:\\Users\\Anjali\\Anaconda3\\envs\\py35_final\\lib\\site-packages\\sklearn\\feature_selection\\univariate_selection.py:113: UserWarning: Features [28 32 40 41 46 49 51 53 57 64 73 75 78 83 84 85 86 87] are constant.\n",
      "  UserWarning)\n",
      "C:\\Users\\Anjali\\Anaconda3\\envs\\py35_final\\lib\\site-packages\\sklearn\\feature_selection\\univariate_selection.py:113: UserWarning: Features [41 46 49 51 54 55 57 59 64 74 75 78 81 85 87] are constant.\n",
      "  UserWarning)\n",
      "C:\\Users\\Anjali\\Anaconda3\\envs\\py35_final\\lib\\site-packages\\sklearn\\feature_selection\\univariate_selection.py:113: UserWarning: Features [23 29 41 43 45 46 48 49 51 56 57 64 71 75 76 78 85 87] are constant.\n",
      "  UserWarning)\n",
      "C:\\Users\\Anjali\\Anaconda3\\envs\\py35_final\\lib\\site-packages\\sklearn\\feature_selection\\univariate_selection.py:113: UserWarning: Features [28 32 40 41 46 49 51 53 57 64 73 75 78 83 84 85 86 87] are constant.\n",
      "  UserWarning)\n",
      "C:\\Users\\Anjali\\Anaconda3\\envs\\py35_final\\lib\\site-packages\\sklearn\\feature_selection\\univariate_selection.py:113: UserWarning: Features [41 46 49 51 54 55 57 59 64 74 75 78 81 85 87] are constant.\n",
      "  UserWarning)\n",
      "C:\\Users\\Anjali\\Anaconda3\\envs\\py35_final\\lib\\site-packages\\sklearn\\feature_selection\\univariate_selection.py:113: UserWarning: Features [23 29 41 43 45 46 48 49 51 56 57 64 71 75 76 78 85 87] are constant.\n",
      "  UserWarning)\n",
      "C:\\Users\\Anjali\\Anaconda3\\envs\\py35_final\\lib\\site-packages\\sklearn\\feature_selection\\univariate_selection.py:113: UserWarning: Features [28 32 40 41 46 49 51 53 57 64 73 75 78 83 84 85 86 87] are constant.\n",
      "  UserWarning)\n",
      "C:\\Users\\Anjali\\Anaconda3\\envs\\py35_final\\lib\\site-packages\\sklearn\\feature_selection\\univariate_selection.py:113: UserWarning: Features [41 46 49 51 54 55 57 59 64 74 75 78 81 85 87] are constant.\n",
      "  UserWarning)\n",
      "C:\\Users\\Anjali\\Anaconda3\\envs\\py35_final\\lib\\site-packages\\sklearn\\feature_selection\\univariate_selection.py:113: UserWarning: Features [23 29 41 43 45 46 48 49 51 56 57 64 71 75 76 78 85 87] are constant.\n",
      "  UserWarning)\n",
      "C:\\Users\\Anjali\\Anaconda3\\envs\\py35_final\\lib\\site-packages\\sklearn\\feature_selection\\univariate_selection.py:113: UserWarning: Features [28 32 40 41 46 49 51 53 57 64 73 75 78 83 84 85 86 87] are constant.\n",
      "  UserWarning)\n",
      "C:\\Users\\Anjali\\Anaconda3\\envs\\py35_final\\lib\\site-packages\\sklearn\\feature_selection\\univariate_selection.py:113: UserWarning: Features [41 46 49 51 54 55 57 59 64 74 75 78 81 85 87] are constant.\n",
      "  UserWarning)\n",
      "C:\\Users\\Anjali\\Anaconda3\\envs\\py35_final\\lib\\site-packages\\sklearn\\feature_selection\\univariate_selection.py:113: UserWarning: Features [23 29 41 43 45 46 48 49 51 56 57 64 71 75 76 78 85 87] are constant.\n",
      "  UserWarning)\n",
      "C:\\Users\\Anjali\\Anaconda3\\envs\\py35_final\\lib\\site-packages\\sklearn\\feature_selection\\univariate_selection.py:113: UserWarning: Features [28 32 40 41 46 49 51 53 57 64 73 75 78 83 84 85 86 87] are constant.\n",
      "  UserWarning)\n",
      "C:\\Users\\Anjali\\Anaconda3\\envs\\py35_final\\lib\\site-packages\\sklearn\\feature_selection\\univariate_selection.py:113: UserWarning: Features [41 46 49 51 54 55 57 59 64 74 75 78 81 85 87] are constant.\n",
      "  UserWarning)\n",
      "C:\\Users\\Anjali\\Anaconda3\\envs\\py35_final\\lib\\site-packages\\sklearn\\feature_selection\\univariate_selection.py:113: UserWarning: Features [23 29 41 43 45 46 48 49 51 56 57 64 71 75 76 78 85 87] are constant.\n",
      "  UserWarning)\n",
      "C:\\Users\\Anjali\\Anaconda3\\envs\\py35_final\\lib\\site-packages\\sklearn\\feature_selection\\univariate_selection.py:113: UserWarning: Features [28 32 40 41 46 49 51 53 57 64 73 75 78 83 84 85 86 87] are constant.\n",
      "  UserWarning)\n",
      "C:\\Users\\Anjali\\Anaconda3\\envs\\py35_final\\lib\\site-packages\\sklearn\\feature_selection\\univariate_selection.py:113: UserWarning: Features [41 46 49 51 54 55 57 59 64 74 75 78 81 85 87] are constant.\n",
      "  UserWarning)\n",
      "C:\\Users\\Anjali\\Anaconda3\\envs\\py35_final\\lib\\site-packages\\sklearn\\feature_selection\\univariate_selection.py:113: UserWarning: Features [23 29 41 43 45 46 48 49 51 56 57 64 71 75 76 78 85 87] are constant.\n",
      "  UserWarning)\n",
      "C:\\Users\\Anjali\\Anaconda3\\envs\\py35_final\\lib\\site-packages\\sklearn\\feature_selection\\univariate_selection.py:113: UserWarning: Features [28 32 40 41 46 49 51 53 57 64 73 75 78 83 84 85 86 87] are constant.\n",
      "  UserWarning)\n",
      "C:\\Users\\Anjali\\Anaconda3\\envs\\py35_final\\lib\\site-packages\\sklearn\\feature_selection\\univariate_selection.py:113: UserWarning: Features [41 46 49 51 54 55 57 59 64 74 75 78 81 85 87] are constant.\n",
      "  UserWarning)\n",
      "C:\\Users\\Anjali\\Anaconda3\\envs\\py35_final\\lib\\site-packages\\sklearn\\feature_selection\\univariate_selection.py:113: UserWarning: Features [23 29 41 43 45 46 48 49 51 56 57 64 71 75 76 78 85 87] are constant.\n",
      "  UserWarning)\n",
      "C:\\Users\\Anjali\\Anaconda3\\envs\\py35_final\\lib\\site-packages\\sklearn\\feature_selection\\univariate_selection.py:113: UserWarning: Features [28 32 40 41 46 49 51 53 57 64 73 75 78 83 84 85 86 87] are constant.\n",
      "  UserWarning)\n",
      "C:\\Users\\Anjali\\Anaconda3\\envs\\py35_final\\lib\\site-packages\\sklearn\\feature_selection\\univariate_selection.py:113: UserWarning: Features [41 46 49 51 54 55 57 59 64 74 75 78 81 85 87] are constant.\n",
      "  UserWarning)\n",
      "C:\\Users\\Anjali\\Anaconda3\\envs\\py35_final\\lib\\site-packages\\sklearn\\feature_selection\\univariate_selection.py:113: UserWarning: Features [23 29 41 43 45 46 48 49 51 56 57 64 71 75 76 78 85 87] are constant.\n",
      "  UserWarning)\n",
      "C:\\Users\\Anjali\\Anaconda3\\envs\\py35_final\\lib\\site-packages\\sklearn\\feature_selection\\univariate_selection.py:113: UserWarning: Features [28 32 40 41 46 49 51 53 57 64 73 75 78 83 84 85 86 87] are constant.\n",
      "  UserWarning)\n",
      "C:\\Users\\Anjali\\Anaconda3\\envs\\py35_final\\lib\\site-packages\\sklearn\\feature_selection\\univariate_selection.py:113: UserWarning: Features [41 46 49 51 54 55 57 59 64 74 75 78 81 85 87] are constant.\n",
      "  UserWarning)\n",
      "C:\\Users\\Anjali\\Anaconda3\\envs\\py35_final\\lib\\site-packages\\sklearn\\feature_selection\\univariate_selection.py:113: UserWarning: Features [23 29 41 43 45 46 48 49 51 56 57 64 71 75 76 78 85 87] are constant.\n",
      "  UserWarning)\n",
      "C:\\Users\\Anjali\\Anaconda3\\envs\\py35_final\\lib\\site-packages\\sklearn\\feature_selection\\univariate_selection.py:113: UserWarning: Features [28 32 40 41 46 49 51 53 57 64 73 75 78 83 84 85 86 87] are constant.\n",
      "  UserWarning)\n",
      "C:\\Users\\Anjali\\Anaconda3\\envs\\py35_final\\lib\\site-packages\\sklearn\\feature_selection\\univariate_selection.py:113: UserWarning: Features [41 46 49 51 54 55 57 59 64 74 75 78 81 85 87] are constant.\n",
      "  UserWarning)\n",
      "C:\\Users\\Anjali\\Anaconda3\\envs\\py35_final\\lib\\site-packages\\sklearn\\feature_selection\\univariate_selection.py:113: UserWarning: Features [23 29 41 43 45 46 48 49 51 56 57 64 71 75 76 78 85 87] are constant.\n",
      "  UserWarning)\n",
      "C:\\Users\\Anjali\\Anaconda3\\envs\\py35_final\\lib\\site-packages\\sklearn\\feature_selection\\univariate_selection.py:113: UserWarning: Features [28 32 40 41 46 49 51 53 57 64 73 75 78 83 84 85 86 87] are constant.\n",
      "  UserWarning)\n",
      "C:\\Users\\Anjali\\Anaconda3\\envs\\py35_final\\lib\\site-packages\\sklearn\\feature_selection\\univariate_selection.py:113: UserWarning: Features [41 46 49 51 54 55 57 59 64 74 75 78 81 85 87] are constant.\n",
      "  UserWarning)\n",
      "C:\\Users\\Anjali\\Anaconda3\\envs\\py35_final\\lib\\site-packages\\sklearn\\feature_selection\\univariate_selection.py:113: UserWarning: Features [23 29 41 43 45 46 48 49 51 56 57 64 71 75 76 78 85 87] are constant.\n",
      "  UserWarning)\n"
     ]
    },
    {
     "name": "stdout",
     "output_type": "stream",
     "text": [
      "Pipeline(memory=None,\n",
      "     steps=[('selectK', SelectKBest(k=20, score_func=<function f_classif at 0x000002376C689E18>)), ('best_clf', SVC(C=4, cache_size=200, class_weight=None, coef0=0.0,\n",
      "  decision_function_shape='ovr', degree=3, gamma=0.1, kernel='rbf',\n",
      "  max_iter=-1, probability=False, random_state=42, shrinking=True,\n",
      "  tol=0.001, verbose=False))])\n",
      "Sensitivity is 0.9375\n",
      "Specificity is 0.9888888888888889\n"
     ]
    },
    {
     "name": "stderr",
     "output_type": "stream",
     "text": [
      "C:\\Users\\Anjali\\Anaconda3\\envs\\py35_final\\lib\\site-packages\\sklearn\\feature_selection\\univariate_selection.py:113: UserWarning: Features [28 32 40 41 46 49 51 53 57 64 73 75 78 83 84 85 86 87] are constant.\n",
      "  UserWarning)\n",
      "C:\\Users\\Anjali\\Anaconda3\\envs\\py35_final\\lib\\site-packages\\sklearn\\feature_selection\\univariate_selection.py:113: UserWarning: Features [41 46 49 51 54 55 57 59 64 74 75 78 81 85 87] are constant.\n",
      "  UserWarning)\n",
      "C:\\Users\\Anjali\\Anaconda3\\envs\\py35_final\\lib\\site-packages\\sklearn\\feature_selection\\univariate_selection.py:113: UserWarning: Features [23 29 41 43 45 46 48 49 51 56 57 64 71 75 76 78 85 87] are constant.\n",
      "  UserWarning)\n",
      "C:\\Users\\Anjali\\Anaconda3\\envs\\py35_final\\lib\\site-packages\\sklearn\\feature_selection\\univariate_selection.py:113: UserWarning: Features [28 32 40 41 46 49 51 53 57 64 73 75 78 83 84 85 86 87] are constant.\n",
      "  UserWarning)\n",
      "C:\\Users\\Anjali\\Anaconda3\\envs\\py35_final\\lib\\site-packages\\sklearn\\feature_selection\\univariate_selection.py:113: UserWarning: Features [41 46 49 51 57 64 75 78 85 87] are constant.\n",
      "  UserWarning)\n"
     ]
    }
   ],
   "source": [
    "# Use SelectKBest and test SVM performance with subset of features\n",
    "\n",
    "from sklearn.feature_selection import SelectKBest\n",
    "from sklearn.pipeline import Pipeline\n",
    "\n",
    "np.seterr(divide='ignore', invalid='ignore')\n",
    "\n",
    "# Create pipeline to select subset of features with previously optimized SVC parameters.\n",
    "pipe = Pipeline([\n",
    "    ('selectK', SelectKBest()),\n",
    "    ('best_clf', SVC(C = 4, gamma = 0.1, random_state = 42))\n",
    "])\n",
    "\n",
    "# Define number of features\n",
    "k_list = range(5, 88, 5)\n",
    "\n",
    "param_grid = [\n",
    "    {\n",
    "        'selectK': [SelectKBest()],\n",
    "        'selectK__k': k_list,\n",
    "   \n",
    "    }\n",
    "]\n",
    "\n",
    "# Use GridSearch to select number of features. Make predictions  \n",
    "grid_select = GridSearchCV(pipe, param_grid=param_grid)\n",
    "grid_select_fit = grid_select.fit(X_train, y_train)\n",
    "\n",
    "\n",
    "best_clf_select = grid_select_fit.best_estimator_\n",
    "print(best_clf_select)\n",
    "best_predictions_select = best_clf_select.predict(X_test)\n",
    "print(\"Sensitivity is {}\".format(recall_score(y_test, best_predictions_select)))\n",
    "print(\"Specificity is {}\".format(specificity(y_test, best_predictions_select)))"
   ]
  },
  {
   "cell_type": "code",
   "execution_count": 24,
   "metadata": {},
   "outputs": [
    {
     "name": "stdout",
     "output_type": "stream",
     "text": [
      "['A1_Score',\n",
      " 'A2_Score',\n",
      " 'A3_Score',\n",
      " 'A4_Score',\n",
      " 'A5_Score',\n",
      " 'A6_Score',\n",
      " 'A7_Score',\n",
      " 'A8_Score',\n",
      " 'A9_Score',\n",
      " 'A10_Score',\n",
      " \"ethnicity_'Middle Eastern '\",\n",
      " \"ethnicity_'South Asian'\",\n",
      " 'ethnicity_Asian',\n",
      " 'ethnicity_Latino',\n",
      " 'ethnicity_White-European',\n",
      " 'family_ASD_no',\n",
      " 'family_ASD_yes',\n",
      " \"country_'United Arab Emirates'\",\n",
      " \"country_'United States'\",\n",
      " 'country_India']\n",
      "[44.538565353354706,\n",
      " 69.16301684990799,\n",
      " 103.9724164270129,\n",
      " 142.23450328599756,\n",
      " 215.9941753959794,\n",
      " 285.06451520203274,\n",
      " 75.52823598575229,\n",
      " 28.684426276057742,\n",
      " 402.0519939397213,\n",
      " 76.8287348519807,\n",
      " 15.079895879756812,\n",
      " 6.372009844734426,\n",
      " 23.205087573601485,\n",
      " 6.760591833242734,\n",
      " 40.963842784147246,\n",
      " 11.200985310320405,\n",
      " 11.200985310320192,\n",
      " 18.50122477149717,\n",
      " 20.470669123777625,\n",
      " 21.836695596926077]\n"
     ]
    }
   ],
   "source": [
    "# Obtain feature names and scores from SelectKBest\n",
    "\n",
    "from itertools import compress\n",
    "from pprint import pprint\n",
    "\n",
    "support = best_clf_select.named_steps['selectK'].get_support()\n",
    "feature_list = X_train.columns.values\n",
    "\n",
    "selected_features = list(compress(feature_list, support))\n",
    "pprint(selected_features)\n",
    "\n",
    "# Obtain feature scores.\n",
    "scores = best_clf_select.named_steps['selectK'].scores_\n",
    "selected_features_scores = list(compress(scores, support))\n",
    "\n",
    "pprint(selected_features_scores)\n",
    "\n"
   ]
  },
  {
   "cell_type": "code",
   "execution_count": 25,
   "metadata": {},
   "outputs": [
    {
     "data": {
      "text/plain": [
       "Text(0.5,1,'SelectKbest Features Scores v. Features of Dataset ')"
      ]
     },
     "execution_count": 25,
     "metadata": {},
     "output_type": "execute_result"
    },
    {
     "data": {
      "image/png": "[encoded data removed]",
      "text/plain": [
       "<matplotlib.figure.Figure at 0x2376dd7cef0>"
      ]
     },
     "metadata": {},
     "output_type": "display_data"
    }
   ],
   "source": [
    "# Plot features by descending feature scores\n",
    "\n",
    "features_scores = pd.DataFrame(\n",
    "    {'Features': selected_features,\n",
    "     'Score': selected_features_scores\n",
    "    })\n",
    "features_scores.head()\n",
    "features_scores = features_scores.sort_values('Score', ascending=False)\n",
    "features_scores = features_scores.set_index('Features')\n",
    "ax = features_scores.iloc[:12].plot.bar(legend = False, figsize = (10,4), rot = 80)\n",
    "ax.set_ylabel(\"Feature Score\" )\n",
    "plt.title(\"SelectKbest Features Scores v. Features of Dataset \")"
   ]
  },
  {
   "cell_type": "code",
   "execution_count": 26,
   "metadata": {},
   "outputs": [
    {
     "name": "stderr",
     "output_type": "stream",
     "text": [
      "C:\\Users\\Anjali\\Anaconda3\\envs\\py35_final\\lib\\site-packages\\sklearn\\feature_selection\\univariate_selection.py:113: UserWarning: Features [13] are constant.\n",
      "  UserWarning)\n",
      "C:\\Users\\Anjali\\Anaconda3\\envs\\py35_final\\lib\\site-packages\\sklearn\\feature_selection\\univariate_selection.py:113: UserWarning: Features [13] are constant.\n",
      "  UserWarning)\n",
      "C:\\Users\\Anjali\\Anaconda3\\envs\\py35_final\\lib\\site-packages\\sklearn\\feature_selection\\univariate_selection.py:113: UserWarning: Features [13] are constant.\n",
      "  UserWarning)\n",
      "C:\\Users\\Anjali\\Anaconda3\\envs\\py35_final\\lib\\site-packages\\sklearn\\feature_selection\\univariate_selection.py:113: UserWarning: Features [17] are constant.\n",
      "  UserWarning)\n",
      "C:\\Users\\Anjali\\Anaconda3\\envs\\py35_final\\lib\\site-packages\\sklearn\\feature_selection\\univariate_selection.py:113: UserWarning: Features [13] are constant.\n",
      "  UserWarning)\n",
      "C:\\Users\\Anjali\\Anaconda3\\envs\\py35_final\\lib\\site-packages\\sklearn\\feature_selection\\univariate_selection.py:113: UserWarning: Features [11] are constant.\n",
      "  UserWarning)\n",
      "C:\\Users\\Anjali\\Anaconda3\\envs\\py35_final\\lib\\site-packages\\sklearn\\feature_selection\\univariate_selection.py:113: UserWarning: Features [13] are constant.\n",
      "  UserWarning)\n",
      "C:\\Users\\Anjali\\Anaconda3\\envs\\py35_final\\lib\\site-packages\\sklearn\\feature_selection\\univariate_selection.py:113: UserWarning: Features [13] are constant.\n",
      "  UserWarning)\n",
      "C:\\Users\\Anjali\\Anaconda3\\envs\\py35_final\\lib\\site-packages\\sklearn\\feature_selection\\univariate_selection.py:113: UserWarning: Features [11 13] are constant.\n",
      "  UserWarning)\n",
      "C:\\Users\\Anjali\\Anaconda3\\envs\\py35_final\\lib\\site-packages\\sklearn\\feature_selection\\univariate_selection.py:113: UserWarning: Features [13] are constant.\n",
      "  UserWarning)\n",
      "C:\\Users\\Anjali\\Anaconda3\\envs\\py35_final\\lib\\site-packages\\sklearn\\feature_selection\\univariate_selection.py:113: UserWarning: Features [13] are constant.\n",
      "  UserWarning)\n",
      "C:\\Users\\Anjali\\Anaconda3\\envs\\py35_final\\lib\\site-packages\\sklearn\\feature_selection\\univariate_selection.py:113: UserWarning: Features [13] are constant.\n",
      "  UserWarning)\n",
      "C:\\Users\\Anjali\\Anaconda3\\envs\\py35_final\\lib\\site-packages\\sklearn\\feature_selection\\univariate_selection.py:113: UserWarning: Features [17] are constant.\n",
      "  UserWarning)\n",
      "C:\\Users\\Anjali\\Anaconda3\\envs\\py35_final\\lib\\site-packages\\sklearn\\feature_selection\\univariate_selection.py:113: UserWarning: Features [13] are constant.\n",
      "  UserWarning)\n",
      "C:\\Users\\Anjali\\Anaconda3\\envs\\py35_final\\lib\\site-packages\\sklearn\\feature_selection\\univariate_selection.py:113: UserWarning: Features [13] are constant.\n",
      "  UserWarning)\n",
      "C:\\Users\\Anjali\\Anaconda3\\envs\\py35_final\\lib\\site-packages\\sklearn\\feature_selection\\univariate_selection.py:113: UserWarning: Features [13] are constant.\n",
      "  UserWarning)\n",
      "C:\\Users\\Anjali\\Anaconda3\\envs\\py35_final\\lib\\site-packages\\sklearn\\feature_selection\\univariate_selection.py:113: UserWarning: Features [13] are constant.\n",
      "  UserWarning)\n",
      "C:\\Users\\Anjali\\Anaconda3\\envs\\py35_final\\lib\\site-packages\\sklearn\\feature_selection\\univariate_selection.py:113: UserWarning: Features [13] are constant.\n",
      "  UserWarning)\n",
      "C:\\Users\\Anjali\\Anaconda3\\envs\\py35_final\\lib\\site-packages\\sklearn\\feature_selection\\univariate_selection.py:113: UserWarning: Features [11] are constant.\n",
      "  UserWarning)\n",
      "C:\\Users\\Anjali\\Anaconda3\\envs\\py35_final\\lib\\site-packages\\sklearn\\feature_selection\\univariate_selection.py:113: UserWarning: Features [13] are constant.\n",
      "  UserWarning)\n",
      "C:\\Users\\Anjali\\Anaconda3\\envs\\py35_final\\lib\\site-packages\\sklearn\\feature_selection\\univariate_selection.py:113: UserWarning: Features [13] are constant.\n",
      "  UserWarning)\n",
      "C:\\Users\\Anjali\\Anaconda3\\envs\\py35_final\\lib\\site-packages\\sklearn\\feature_selection\\univariate_selection.py:113: UserWarning: Features [13] are constant.\n",
      "  UserWarning)\n",
      "C:\\Users\\Anjali\\Anaconda3\\envs\\py35_final\\lib\\site-packages\\sklearn\\feature_selection\\univariate_selection.py:113: UserWarning: Features [13] are constant.\n",
      "  UserWarning)\n",
      "C:\\Users\\Anjali\\Anaconda3\\envs\\py35_final\\lib\\site-packages\\sklearn\\feature_selection\\univariate_selection.py:113: UserWarning: Features [11] are constant.\n",
      "  UserWarning)\n",
      "C:\\Users\\Anjali\\Anaconda3\\envs\\py35_final\\lib\\site-packages\\sklearn\\feature_selection\\univariate_selection.py:113: UserWarning: Features [11] are constant.\n",
      "  UserWarning)\n",
      "C:\\Users\\Anjali\\Anaconda3\\envs\\py35_final\\lib\\site-packages\\sklearn\\feature_selection\\univariate_selection.py:113: UserWarning: Features [11] are constant.\n",
      "  UserWarning)\n",
      "C:\\Users\\Anjali\\Anaconda3\\envs\\py35_final\\lib\\site-packages\\sklearn\\feature_selection\\univariate_selection.py:113: UserWarning: Features [13] are constant.\n",
      "  UserWarning)\n",
      "C:\\Users\\Anjali\\Anaconda3\\envs\\py35_final\\lib\\site-packages\\sklearn\\feature_selection\\univariate_selection.py:113: UserWarning: Features [13] are constant.\n",
      "  UserWarning)\n",
      "C:\\Users\\Anjali\\Anaconda3\\envs\\py35_final\\lib\\site-packages\\sklearn\\feature_selection\\univariate_selection.py:113: UserWarning: Features [13] are constant.\n",
      "  UserWarning)\n",
      "C:\\Users\\Anjali\\Anaconda3\\envs\\py35_final\\lib\\site-packages\\sklearn\\feature_selection\\univariate_selection.py:113: UserWarning: Features [11 13] are constant.\n",
      "  UserWarning)\n",
      "C:\\Users\\Anjali\\Anaconda3\\envs\\py35_final\\lib\\site-packages\\sklearn\\feature_selection\\univariate_selection.py:113: UserWarning: Features [13] are constant.\n",
      "  UserWarning)\n",
      "C:\\Users\\Anjali\\Anaconda3\\envs\\py35_final\\lib\\site-packages\\sklearn\\feature_selection\\univariate_selection.py:113: UserWarning: Features [11] are constant.\n",
      "  UserWarning)\n",
      "C:\\Users\\Anjali\\Anaconda3\\envs\\py35_final\\lib\\site-packages\\sklearn\\feature_selection\\univariate_selection.py:113: UserWarning: Features [13] are constant.\n",
      "  UserWarning)\n",
      "C:\\Users\\Anjali\\Anaconda3\\envs\\py35_final\\lib\\site-packages\\sklearn\\feature_selection\\univariate_selection.py:113: UserWarning: Features [13] are constant.\n",
      "  UserWarning)\n",
      "C:\\Users\\Anjali\\Anaconda3\\envs\\py35_final\\lib\\site-packages\\sklearn\\feature_selection\\univariate_selection.py:113: UserWarning: Features [13] are constant.\n",
      "  UserWarning)\n",
      "C:\\Users\\Anjali\\Anaconda3\\envs\\py35_final\\lib\\site-packages\\sklearn\\feature_selection\\univariate_selection.py:113: UserWarning: Features [13] are constant.\n",
      "  UserWarning)\n"
     ]
    },
    {
     "data": {
      "text/plain": [
       "<matplotlib.legend.Legend at 0x2376de260f0>"
      ]
     },
     "execution_count": 26,
     "metadata": {},
     "output_type": "execute_result"
    },
    {
     "data": {
      "image/png": "[encoded data removed]",
      "text/plain": [
       "<matplotlib.figure.Figure at 0x2376ddeb0b8>"
      ]
     },
     "metadata": {},
     "output_type": "display_data"
    }
   ],
   "source": [
    "# Create learning curve for SVM classifier to evaluate performance\n",
    "\n",
    "from sklearn.model_selection import ShuffleSplit\n",
    "from sklearn.model_selection import learning_curve\n",
    "\n",
    "plt.figure()\n",
    "cv = ShuffleSplit(n_splits=100, test_size=0.2, random_state=0)\n",
    "\n",
    "estimator = best_clf_select\n",
    "train_sizes = [0.10, 0.20, 0.5, 0.7, 1]\n",
    "train_sizes, train_scores, test_scores = learning_curve(\n",
    "        estimator, X_train[selected_features], y_train, cv=cv, n_jobs=1, train_sizes=train_sizes, \\\n",
    "        scoring = recall_scorer)\n",
    "train_scores_mean = np.mean(train_scores, axis=1)\n",
    "train_scores_std = np.std(train_scores, axis=1)\n",
    "test_scores_mean = np.mean(test_scores, axis=1)\n",
    "test_scores_std = np.std(test_scores, axis=1)\n",
    "plt.plot(train_sizes, train_scores_mean, 'o-', color=\"r\",\n",
    "             label=\"Training score\")\n",
    "plt.plot(train_sizes, test_scores_mean, 'o-', color=\"g\",\n",
    "             label=\"Cross-validation score\")\n",
    "plt.xlabel(\"Training samples\")\n",
    "plt.ylabel(\"Recall score\")\n",
    "plt.title(\"Learning curve for SVM classifier\")\n",
    "plt.legend(loc=\"best\")"
   ]
  },
  {
   "cell_type": "code",
   "execution_count": 90,
   "metadata": {
    "scrolled": false
   },
   "outputs": [
    {
     "name": "stdout",
     "output_type": "stream",
     "text": [
      "{'train_specificity': array([0.99342105, 0.99671053, 0.99671053, 0.99013158, 0.99671053,\n",
      "       1.        , 0.99671053, 0.99342105, 0.99672131, 0.99016393]), 'fit_time': array([0.00952649, 0.00451326, 0.0095253 , 0.0040102 , 0.00602889,\n",
      "       0.00300789, 0.00300789, 0.00350928, 0.00350904, 0.0030086 ]), 'test_specificity': array([1.        , 1.        , 1.        , 1.        , 1.        ,\n",
      "       0.97058824, 1.        , 0.97058824, 1.        , 0.96969697]), 'train_recall': array([0.96992481, 0.96240602, 0.95488722, 0.96240602, 0.96992481,\n",
      "       0.95488722, 0.97744361, 0.96992481, 0.96268657, 0.97014925]), 'score_time': array([0.00501347, 0.00250554, 0.00250745, 0.00150347, 0.00200534,\n",
      "       0.00150418, 0.00150418, 0.00200558, 0.00200534, 0.00150347]), 'test_recall': array([0.93333333, 0.93333333, 0.93333333, 1.        , 0.86666667,\n",
      "       1.        , 0.86666667, 0.86666667, 1.        , 0.92857143])}\n",
      "0.9910873440285204\n",
      "0.013616251639549168\n",
      "0.9328571428571429\n",
      "0.05165953428935646\n"
     ]
    },
    {
     "name": "stderr",
     "output_type": "stream",
     "text": [
      "C:\\Users\\Anjali\\Anaconda3\\envs\\py35_final\\lib\\site-packages\\sklearn\\utils\\deprecation.py:122: FutureWarning: You are accessing a training score ('train_recall'), which will not be available by default any more in 0.21. If you need training scores, please set return_train_score=True\n",
      "  warnings.warn(*warn_args, **warn_kwargs)\n",
      "C:\\Users\\Anjali\\Anaconda3\\envs\\py35_final\\lib\\site-packages\\sklearn\\utils\\deprecation.py:122: FutureWarning: You are accessing a training score ('train_specificity'), which will not be available by default any more in 0.21. If you need training scores, please set return_train_score=True\n",
      "  warnings.warn(*warn_args, **warn_kwargs)\n"
     ]
    },
    {
     "data": {
      "text/html": [
       "<div>\n",
       "<style scoped>\n",
       "    .dataframe tbody tr th:only-of-type {\n",
       "        vertical-align: middle;\n",
       "    }\n",
       "\n",
       "    .dataframe tbody tr th {\n",
       "        vertical-align: top;\n",
       "    }\n",
       "\n",
       "    .dataframe thead th {\n",
       "        text-align: right;\n",
       "    }\n",
       "</style>\n",
       "<table border=\"1\" class=\"dataframe\">\n",
       "  <thead>\n",
       "    <tr style=\"text-align: right;\">\n",
       "      <th></th>\n",
       "      <th>fit_time</th>\n",
       "      <th>score_time</th>\n",
       "      <th>test_recall</th>\n",
       "      <th>test_specificity</th>\n",
       "      <th>train_recall</th>\n",
       "      <th>train_specificity</th>\n",
       "    </tr>\n",
       "  </thead>\n",
       "  <tbody>\n",
       "    <tr>\n",
       "      <th>0</th>\n",
       "      <td>0.009526</td>\n",
       "      <td>0.005013</td>\n",
       "      <td>0.933333</td>\n",
       "      <td>1.000000</td>\n",
       "      <td>0.969925</td>\n",
       "      <td>0.993421</td>\n",
       "    </tr>\n",
       "    <tr>\n",
       "      <th>1</th>\n",
       "      <td>0.004513</td>\n",
       "      <td>0.002506</td>\n",
       "      <td>0.933333</td>\n",
       "      <td>1.000000</td>\n",
       "      <td>0.962406</td>\n",
       "      <td>0.996711</td>\n",
       "    </tr>\n",
       "    <tr>\n",
       "      <th>2</th>\n",
       "      <td>0.009525</td>\n",
       "      <td>0.002507</td>\n",
       "      <td>0.933333</td>\n",
       "      <td>1.000000</td>\n",
       "      <td>0.954887</td>\n",
       "      <td>0.996711</td>\n",
       "    </tr>\n",
       "    <tr>\n",
       "      <th>3</th>\n",
       "      <td>0.004010</td>\n",
       "      <td>0.001503</td>\n",
       "      <td>1.000000</td>\n",
       "      <td>1.000000</td>\n",
       "      <td>0.962406</td>\n",
       "      <td>0.990132</td>\n",
       "    </tr>\n",
       "    <tr>\n",
       "      <th>4</th>\n",
       "      <td>0.006029</td>\n",
       "      <td>0.002005</td>\n",
       "      <td>0.866667</td>\n",
       "      <td>1.000000</td>\n",
       "      <td>0.969925</td>\n",
       "      <td>0.996711</td>\n",
       "    </tr>\n",
       "    <tr>\n",
       "      <th>5</th>\n",
       "      <td>0.003008</td>\n",
       "      <td>0.001504</td>\n",
       "      <td>1.000000</td>\n",
       "      <td>0.970588</td>\n",
       "      <td>0.954887</td>\n",
       "      <td>1.000000</td>\n",
       "    </tr>\n",
       "    <tr>\n",
       "      <th>6</th>\n",
       "      <td>0.003008</td>\n",
       "      <td>0.001504</td>\n",
       "      <td>0.866667</td>\n",
       "      <td>1.000000</td>\n",
       "      <td>0.977444</td>\n",
       "      <td>0.996711</td>\n",
       "    </tr>\n",
       "    <tr>\n",
       "      <th>7</th>\n",
       "      <td>0.003509</td>\n",
       "      <td>0.002006</td>\n",
       "      <td>0.866667</td>\n",
       "      <td>0.970588</td>\n",
       "      <td>0.969925</td>\n",
       "      <td>0.993421</td>\n",
       "    </tr>\n",
       "    <tr>\n",
       "      <th>8</th>\n",
       "      <td>0.003509</td>\n",
       "      <td>0.002005</td>\n",
       "      <td>1.000000</td>\n",
       "      <td>1.000000</td>\n",
       "      <td>0.962687</td>\n",
       "      <td>0.996721</td>\n",
       "    </tr>\n",
       "    <tr>\n",
       "      <th>9</th>\n",
       "      <td>0.003009</td>\n",
       "      <td>0.001503</td>\n",
       "      <td>0.928571</td>\n",
       "      <td>0.969697</td>\n",
       "      <td>0.970149</td>\n",
       "      <td>0.990164</td>\n",
       "    </tr>\n",
       "  </tbody>\n",
       "</table>\n",
       "</div>"
      ],
      "text/plain": [
       "   fit_time  score_time  test_recall  test_specificity  train_recall  \\\n",
       "0  0.009526    0.005013     0.933333          1.000000      0.969925   \n",
       "1  0.004513    0.002506     0.933333          1.000000      0.962406   \n",
       "2  0.009525    0.002507     0.933333          1.000000      0.954887   \n",
       "3  0.004010    0.001503     1.000000          1.000000      0.962406   \n",
       "4  0.006029    0.002005     0.866667          1.000000      0.969925   \n",
       "5  0.003008    0.001504     1.000000          0.970588      0.954887   \n",
       "6  0.003008    0.001504     0.866667          1.000000      0.977444   \n",
       "7  0.003509    0.002006     0.866667          0.970588      0.969925   \n",
       "8  0.003509    0.002005     1.000000          1.000000      0.962687   \n",
       "9  0.003009    0.001503     0.928571          0.969697      0.970149   \n",
       "\n",
       "   train_specificity  \n",
       "0           0.993421  \n",
       "1           0.996711  \n",
       "2           0.996711  \n",
       "3           0.990132  \n",
       "4           0.996711  \n",
       "5           1.000000  \n",
       "6           0.996711  \n",
       "7           0.993421  \n",
       "8           0.996721  \n",
       "9           0.990164  "
      ]
     },
     "execution_count": 90,
     "metadata": {},
     "output_type": "execute_result"
    }
   ],
   "source": [
    "from sklearn.model_selection import cross_validate, StratifiedKFold\n",
    "\n",
    "# Define StratifiedKFold object with recall and specificty metrics. Define estimator with optimized\n",
    "# parameters.\n",
    "scoring = {'recall': 'recall', 'specificity': make_scorer(specificity)}\n",
    "estimator_default = SVC(random_state = 42)\n",
    "strat_kfold = StratifiedKFold(n_splits=10, random_state=42)\n",
    "estimator_valid = SVC(C = 4, gamma = 0.1, random_state = 42) \n",
    "\n",
    "# Obtain results from cross validation\n",
    "results = cross_validate(estimator=estimator_default, X=X_train[selected_features], y=y_train, \\\n",
    "                         cv=strat_kfold, scoring = scoring)\n",
    "\n",
    "# Print results and mean, std dev of results\n",
    "print(results)\n",
    "print(np.mean(results['test_specificity']))\n",
    "print(np.std(results['test_specificity']))\n",
    "print(np.mean(results['test_recall']))\n",
    "print(np.std(results['test_recall']))\n",
    "\n",
    "# Convert results to dataframe\n",
    "pd.DataFrame.from_dict(results)"
   ]
  },
  {
   "cell_type": "markdown",
   "metadata": {},
   "source": [
    "### Deep learning model\n",
    "\n",
    "A deep learning model was created to compare with the previous SVC model."
   ]
  },
  {
   "cell_type": "code",
   "execution_count": 27,
   "metadata": {},
   "outputs": [
    {
     "name": "stderr",
     "output_type": "stream",
     "text": [
      "C:\\Users\\Anjali\\Anaconda3\\envs\\py35_final\\lib\\site-packages\\h5py\\__init__.py:36: FutureWarning: Conversion of the second argument of issubdtype from `float` to `np.floating` is deprecated. In future, it will be treated as `np.float64 == np.dtype(float).type`.\n",
      "  from ._conv import register_converters as _register_converters\n",
      "Using TensorFlow backend.\n"
     ]
    },
    {
     "name": "stdout",
     "output_type": "stream",
     "text": [
      "(486, 88)\n"
     ]
    }
   ],
   "source": [
    "import keras\n",
    "from keras.models import Sequential\n",
    "from keras.layers import Dense, Dropout, Activation\n",
    "import numpy as np\n",
    "\n",
    "np.random.seed(42)\n",
    "\n",
    "print(X_train.shape)\n"
   ]
  },
  {
   "cell_type": "code",
   "execution_count": 28,
   "metadata": {
    "scrolled": false
   },
   "outputs": [
    {
     "name": "stdout",
     "output_type": "stream",
     "text": [
      "_________________________________________________________________\n",
      "Layer (type)                 Output Shape              Param #   \n",
      "=================================================================\n",
      "dense_1 (Dense)              (None, 512)               45568     \n",
      "_________________________________________________________________\n",
      "dropout_1 (Dropout)          (None, 512)               0         \n",
      "_________________________________________________________________\n",
      "dense_2 (Dense)              (None, 1)                 513       \n",
      "=================================================================\n",
      "Total params: 46,081\n",
      "Trainable params: 46,081\n",
      "Non-trainable params: 0\n",
      "_________________________________________________________________\n"
     ]
    }
   ],
   "source": [
    "# Create model layers\n",
    "\n",
    "model = Sequential()\n",
    "model.add(Dense(512, activation = 'relu', input_shape = (88,)))\n",
    "model.add(Dropout(0.2))\n",
    "model.add(Dense(1, activation = 'sigmoid'))\n",
    "\n",
    "\n",
    "# Compile model\n",
    "\n",
    "model.compile(loss = 'binary_crossentropy', optimizer = 'adam', metrics = ['accuracy'])\n",
    "model.summary()"
   ]
  },
  {
   "cell_type": "code",
   "execution_count": 29,
   "metadata": {},
   "outputs": [
    {
     "data": {
      "text/plain": [
       "<keras.callbacks.History at 0x23770847518>"
      ]
     },
     "execution_count": 29,
     "metadata": {},
     "output_type": "execute_result"
    }
   ],
   "source": [
    "# Fit model\n",
    "model.fit(X_train, y_train, epochs=80, batch_size=48, verbose=0)"
   ]
  },
  {
   "cell_type": "code",
   "execution_count": 30,
   "metadata": {},
   "outputs": [],
   "source": [
    "# Predict on the test set. Convert test set to 1 or 0 based on sigmoid function probability\n",
    "y_pred_nn = model.predict(X_test)\n",
    "y_pred_nn = [1 if i > 0.5 else 0 for i in y_pred_nn]"
   ]
  },
  {
   "cell_type": "code",
   "execution_count": 31,
   "metadata": {},
   "outputs": [
    {
     "name": "stdout",
     "output_type": "stream",
     "text": [
      "Specificity is 0.9444444444444444\n",
      "Sensitivity is 0.96875\n"
     ]
    }
   ],
   "source": [
    "# Define sensitivity metric for evaluation\n",
    "\n",
    "def sensitivity(ground_truth, predictions):\n",
    "    score_conf = confusion_matrix(ground_truth, predictions)\n",
    "    return float(score_conf[1][1])/(score_conf[1][1] + score_conf[1][0])\n",
    "\n",
    "# Test model specificity and sensitivity\n",
    "print(\"Specificity is {}\".format(specificity(y_test, y_pred_nn)))\n",
    "print(\"Sensitivity is {}\".format(sensitivity(y_test, y_pred_nn)))\n",
    "\n",
    "# Differences in peformance by # of neurons is listed below:\n",
    "# 512 neurons - Specificity  = 0.944, Sensitivity = 0.969\n",
    "# 256 neurons - Specificty = 0.938, Sensitivity = 0.967\n",
    "# 128 neurons - Specificity = 0.956, Sensitivity =  0.969"
   ]
  },
  {
   "cell_type": "code",
   "execution_count": 32,
   "metadata": {},
   "outputs": [
    {
     "name": "stdout",
     "output_type": "stream",
     "text": [
      "(486, 20)\n"
     ]
    }
   ],
   "source": [
    "# Create deep learning model with SelectKbest feature subset\n",
    "\n",
    "print(X_train[selected_features].shape)"
   ]
  },
  {
   "cell_type": "code",
   "execution_count": 33,
   "metadata": {},
   "outputs": [
    {
     "name": "stdout",
     "output_type": "stream",
     "text": [
      "_________________________________________________________________\n",
      "Layer (type)                 Output Shape              Param #   \n",
      "=================================================================\n",
      "dense_3 (Dense)              (None, 128)               2688      \n",
      "_________________________________________________________________\n",
      "dropout_2 (Dropout)          (None, 128)               0         \n",
      "_________________________________________________________________\n",
      "dense_4 (Dense)              (None, 1)                 129       \n",
      "=================================================================\n",
      "Total params: 2,817\n",
      "Trainable params: 2,817\n",
      "Non-trainable params: 0\n",
      "_________________________________________________________________\n"
     ]
    }
   ],
   "source": [
    "model = Sequential()\n",
    "model.add(Dense(128, activation = 'relu', input_shape = (20,)))\n",
    "model.add(Dropout(0.2))\n",
    "model.add(Dense(1, activation = 'sigmoid'))\n",
    "\n",
    "\n",
    "# Compile model\n",
    "\n",
    "model.compile(loss = 'binary_crossentropy', optimizer = 'adam', metrics = ['accuracy'])\n",
    "model.summary()"
   ]
  },
  {
   "cell_type": "code",
   "execution_count": 34,
   "metadata": {},
   "outputs": [],
   "source": [
    "# Split training data into validation and training data\n",
    "\n",
    "X_train_nn = X_train[selected_features][:386]\n",
    "y_train_nn = y_train[:386]\n",
    "X_val = X_train[selected_features][386:]\n",
    "y_val = y_train[386:]"
   ]
  },
  {
   "cell_type": "code",
   "execution_count": 35,
   "metadata": {},
   "outputs": [],
   "source": [
    "# Fit model\n",
    "nn_model = model.fit(X_train_nn, y_train_nn, epochs=80, batch_size=48, \\\n",
    "          validation_data = (X_val, y_val), verbose=0)"
   ]
  },
  {
   "cell_type": "code",
   "execution_count": 36,
   "metadata": {},
   "outputs": [],
   "source": [
    "# Predict on the test set\n",
    "\n",
    "y_pred_nn_selected = model.predict(X_test[selected_features])\n",
    "y_pred_nn_selected = [1 if i > 0.5 else 0 for i in y_pred_nn_selected]"
   ]
  },
  {
   "cell_type": "code",
   "execution_count": 37,
   "metadata": {},
   "outputs": [
    {
     "name": "stdout",
     "output_type": "stream",
     "text": [
      "Optimized specificity is 0.9222222222222223\n",
      "Optimized sensitivity is 0.96875\n"
     ]
    }
   ],
   "source": [
    "# Test model specificity and sensitivity\n",
    "print(\"Optimized specificity is {}\".format(specificity(y_test, y_pred_nn_selected)))\n",
    "print(\"Optimized sensitivity is {}\".format(sensitivity(y_test, y_pred_nn_selected)))\n"
   ]
  },
  {
   "cell_type": "code",
   "execution_count": 38,
   "metadata": {
    "scrolled": true
   },
   "outputs": [
    {
     "data": {
      "image/png": "[encoded data removed]",
      "text/plain": [
       "<matplotlib.figure.Figure at 0x237722fd390>"
      ]
     },
     "metadata": {},
     "output_type": "display_data"
    }
   ],
   "source": [
    "# plot train and validation loss\n",
    "plt.plot(nn_model.history['loss'], color = 'r')\n",
    "plt.plot(nn_model.history['val_loss'], color = 'g')\n",
    "plt.title('Loss vs. epoch')\n",
    "plt.ylabel('loss')\n",
    "plt.xlabel('epoch')\n",
    "plt.legend(['training score', 'validation score'], loc='upper right')\n",
    "plt.show()"
   ]
  },
  {
   "cell_type": "code",
   "execution_count": 55,
   "metadata": {},
   "outputs": [
    {
     "name": "stdout",
     "output_type": "stream",
     "text": [
      "_________________________________________________________________\n",
      "Layer (type)                 Output Shape              Param #   \n",
      "=================================================================\n",
      "dense_11 (Dense)             (None, 128)               2688      \n",
      "_________________________________________________________________\n",
      "dropout_6 (Dropout)          (None, 128)               0         \n",
      "_________________________________________________________________\n",
      "dense_12 (Dense)             (None, 1)                 129       \n",
      "=================================================================\n",
      "Total params: 2,817\n",
      "Trainable params: 2,817\n",
      "Non-trainable params: 0\n",
      "_________________________________________________________________\n"
     ]
    }
   ],
   "source": [
    "# Create model with only 25 training epochs\n",
    "\n",
    "model_2 = Sequential()\n",
    "model_2.add(Dense(128, activation = 'relu', input_shape = (20,)))\n",
    "model_2.add(Dropout(0.2))\n",
    "model_2.add(Dense(1, activation = 'sigmoid'))\n",
    "\n",
    "\n",
    "# Compile model\n",
    "\n",
    "model_2.compile(loss = 'binary_crossentropy', optimizer = 'adam', metrics = ['accuracy'])\n",
    "model_2.summary()"
   ]
  },
  {
   "cell_type": "code",
   "execution_count": 56,
   "metadata": {},
   "outputs": [],
   "source": [
    "X_train_nn = X_train[selected_features][:386]\n",
    "y_train_nn = y_train[:386]\n",
    "X_val = X_train[selected_features][386:]\n",
    "y_val = y_train[386:]"
   ]
  },
  {
   "cell_type": "code",
   "execution_count": 57,
   "metadata": {},
   "outputs": [],
   "source": [
    "# Fit model\n",
    "nn_model_2 = model_2.fit(X_train_nn, y_train_nn, epochs=25, batch_size=48, \\\n",
    "          validation_data = (X_val, y_val), verbose=0)"
   ]
  },
  {
   "cell_type": "code",
   "execution_count": 58,
   "metadata": {},
   "outputs": [],
   "source": [
    "y_pred_nn_selected = model_2.predict(X_test[selected_features])\n",
    "y_pred_nn_selected = [1 if i > 0.5 else 0 for i in y_pred_nn_selected]"
   ]
  },
  {
   "cell_type": "code",
   "execution_count": 59,
   "metadata": {},
   "outputs": [
    {
     "name": "stdout",
     "output_type": "stream",
     "text": [
      "Optimized specificity is 0.9555555555555556\n",
      "Optimized sensitivity is 0.875\n"
     ]
    }
   ],
   "source": [
    "# Test model specificity and sensitivity\n",
    "print(\"Optimized specificity is {}\".format(specificity(y_test, y_pred_nn_selected)))\n",
    "print(\"Optimized sensitivity is {}\".format(sensitivity(y_test, y_pred_nn_selected)))\n"
   ]
  },
  {
   "cell_type": "code",
   "execution_count": 60,
   "metadata": {
    "scrolled": true
   },
   "outputs": [
    {
     "data": {
      "image/png": "[encoded data removed]",
      "text/plain": [
       "<matplotlib.figure.Figure at 0x2377651c6d8>"
      ]
     },
     "metadata": {},
     "output_type": "display_data"
    }
   ],
   "source": [
    "\n",
    "# plot train and validation loss\n",
    "plt.plot(nn_model_2.history['loss'], color = 'r')\n",
    "plt.plot(nn_model_2.history['val_loss'], color = 'g')\n",
    "plt.title('Loss vs. epoch')\n",
    "plt.ylabel('loss')\n",
    "plt.xlabel('epoch')\n",
    "plt.legend(['training score', 'validation score'], loc='upper right')\n",
    "plt.show()"
   ]
  },
  {
   "cell_type": "code",
   "execution_count": 105,
   "metadata": {},
   "outputs": [
    {
     "name": "stdout",
     "output_type": "stream",
     "text": [
      "[1.0, 0.9705882352941176, 0.9705882352941176, 0.9705882352941176, 0.9705882352941176, 1.0, 0.9411764705882353, 1.0, 1.0, 0.8787878787878788]\n",
      "[1.0, 1.0, 1.0, 0.8666666666666667, 0.9333333333333333, 0.9333333333333333, 0.9333333333333333, 1.0, 1.0, 0.9285714285714286]\n"
     ]
    }
   ],
   "source": [
    "# Define Stratified KFold object. Use features selected from SelectKbest\n",
    "stratkfold_deep = StratifiedKFold(n_splits=10, shuffle=True, random_state=42)\n",
    "X_train_select = X_train[selected_features]\n",
    "X_train_select = X_train_select.reset_index(drop=True)\n",
    "cvscores_specificity = []\n",
    "cvscores_sensitivity = []\n",
    "\n",
    "# Obtain specificity and sensitivity results from each Stratified Kfold split\n",
    "for train, test in stratkfold_deep.split(X_train_select, y_train):\n",
    "    model_stratfold_deep = Sequential()\n",
    "    model_stratfold_deep.add(Dense(128, activation = 'relu', input_shape = (20,)))\n",
    "    model_stratfold_deep.add(Dropout(0.2))\n",
    "    model_stratfold_deep.add(Dense(1, activation = 'sigmoid'))\n",
    "    model_stratfold_deep.compile(loss='binary_crossentropy', optimizer='adam', metrics=['accuracy'])\n",
    "    model_stratfold_deep.fit(X_train_select.iloc[train], y_train.iloc[train], epochs=25, batch_size=10, verbose=0)\n",
    "    y_pred_nn_selected_stratkfold = model_stratfold_deep.predict(X_train_select.iloc[test])\n",
    "    y_pred_nn_selected_stratkfold = [1 if i > 0.5 else 0 for i in y_pred_nn_selected_stratkfold ]\n",
    "    cvscores_specificity.append((specificity(y_train.iloc[test], y_pred_nn_selected_stratkfold)))\n",
    "    cvscores_sensitivity.append((sensitivity(y_train.iloc[test], y_pred_nn_selected_stratkfold)))\n",
    "\n",
    "# Print specificity and sensitivity scores    \n",
    "print(cvscores_specificity)\n",
    "print(cvscores_sensitivity)"
   ]
  },
  {
   "cell_type": "code",
   "execution_count": null,
   "metadata": {},
   "outputs": [],
   "source": []
  }
 ],
 "metadata": {
  "kernelspec": {
   "display_name": "Python [conda env:py35_final]",
   "language": "python",
   "name": "conda-env-py35_final-py"
  },
  "language_info": {
   "codemirror_mode": {
    "name": "ipython",
    "version": 3
   },
   "file_extension": ".py",
   "mimetype": "text/x-python",
   "name": "python",
   "nbconvert_exporter": "python",
   "pygments_lexer": "ipython3",
   "version": "3.5.4"
  }
 },
 "nbformat": 4,
 "nbformat_minor": 2
}
